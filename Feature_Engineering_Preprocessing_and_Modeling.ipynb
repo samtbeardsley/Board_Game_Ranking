{
 "cells": [
  {
   "cell_type": "markdown",
   "metadata": {},
   "source": [
    "# Feature Engineering, Preprocessing, and Modeling"
   ]
  },
  {
   "cell_type": "code",
   "execution_count": 64,
   "metadata": {},
   "outputs": [],
   "source": [
    "# import packages\n",
    "import pandas as pd\n",
    "import numpy as np\n",
    "import seaborn as sns\n",
    "from sklearn.impute import KNNImputer\n",
    "import prince # factor analysis library\n",
    "from sklearn.model_selection import train_test_split, GridSearchCV, cross_val_score\n",
    "from sklearn.ensemble import RandomForestClassifier, GradientBoostingClassifier\n",
    "from sklearn.linear_model import LogisticRegression, SGDClassifier\n",
    "from sklearn.neighbors import KNeighborsClassifier\n",
    "from sklearn.svm import SVC\n",
    "from sklearn import metrics\n",
    "import matplotlib.pyplot as plt\n",
    "import optuna\n",
    "import warnings\n",
    "import time\n",
    "\n",
    "%matplotlib inline"
   ]
  },
  {
   "cell_type": "code",
   "execution_count": 21,
   "metadata": {},
   "outputs": [],
   "source": [
    "# import data\n",
    "bgg = pd.read_csv('Data/browse_cmf_credits_raw.csv', index_col=0)\n",
    "pd.set_option('max_colwidth', 120)"
   ]
  },
  {
   "cell_type": "code",
   "execution_count": 22,
   "metadata": {},
   "outputs": [
    {
     "data": {
      "text/plain": [
       "avg_rating       float64\n",
       "geek_rating      float64\n",
       "num_voters         int64\n",
       "title             object\n",
       "full_game_url     object\n",
       "rank               int64\n",
       "game_id            int64\n",
       "category          object\n",
       "mechanic          object\n",
       "family            object\n",
       "age                int64\n",
       "max_play_time      int64\n",
       "max_players        int64\n",
       "min_play_time      int64\n",
       "min_players        int64\n",
       "weight           float64\n",
       "dtype: object"
      ]
     },
     "execution_count": 22,
     "metadata": {},
     "output_type": "execute_result"
    }
   ],
   "source": [
    "# checking that the data types are correct\n",
    "bgg.dtypes"
   ]
  },
  {
   "cell_type": "code",
   "execution_count": 23,
   "metadata": {
    "scrolled": false
   },
   "outputs": [
    {
     "data": {
      "text/plain": [
       "avg_rating          0\n",
       "geek_rating         0\n",
       "num_voters          0\n",
       "title               0\n",
       "full_game_url       0\n",
       "rank                0\n",
       "game_id             0\n",
       "category          211\n",
       "mechanic         1567\n",
       "family           4614\n",
       "age                 0\n",
       "max_play_time       0\n",
       "max_players         0\n",
       "min_play_time       0\n",
       "min_players         0\n",
       "weight              0\n",
       "dtype: int64"
      ]
     },
     "execution_count": 23,
     "metadata": {},
     "output_type": "execute_result"
    }
   ],
   "source": [
    "# checking for null values\n",
    "bgg.isnull().sum()"
   ]
  },
  {
   "cell_type": "code",
   "execution_count": 24,
   "metadata": {},
   "outputs": [
    {
     "data": {
      "text/plain": [
       "category    0\n",
       "mechanic    0\n",
       "family      0\n",
       "dtype: int64"
      ]
     },
     "execution_count": 24,
     "metadata": {},
     "output_type": "execute_result"
    }
   ],
   "source": [
    "# filling nulls in categorical labels with \"None\"\n",
    "bgg.fillna('None', inplace=True)\n",
    "\n",
    "# confirming categorical nulls are replaced\n",
    "bgg[['category','mechanic','family']].isnull().sum()"
   ]
  },
  {
   "cell_type": "markdown",
   "metadata": {},
   "source": [
    "The family label is sparse with 2,748 different families. Using this as a feature would increase dimensionality significantly, but also many of families are unique or specific to a game or set of games, so this will not generalize well to new data. However, as we saw in EDA, Kickstarter games have a statistically higher average Geek Rating, so I do want to create a column indicating if a game was or wasn't on Kickstarter."
   ]
  },
  {
   "cell_type": "code",
   "execution_count": 25,
   "metadata": {},
   "outputs": [],
   "source": [
    "# create new column named Kickstarter and drop family column\n",
    "bgg['kickstarter'] = bgg['family'].str.contains('Kickstarter')\n",
    "bgg.drop(columns=['family'], inplace=True)"
   ]
  },
  {
   "cell_type": "code",
   "execution_count": 26,
   "metadata": {},
   "outputs": [],
   "source": [
    "# creating dummy columns for category label\n",
    "cat_dummy = bgg.category.str.get_dummies(',').add_prefix('cat_').replace({1:True,0:False})\n",
    "\n",
    "# creating dummy columns for mechanic label\n",
    "# three mechanics have commas which need to be removed before creating dummies \n",
    "bgg['mechanic'] = bgg['mechanic'].str.replace('Deck, Bag, and Pool Building', 'Deck Bag and Pool Building')\n",
    "bgg['mechanic'] = bgg['mechanic'].str.replace('I Cut, You Choose', 'I Cut You Choose')\n",
    "bgg['mechanic'] = bgg['mechanic'].str.replace('Worker Placement, Different Worker Types', 'Worker Placement Different Worker Types')\n",
    "mech_dummy = bgg.mechanic.str.get_dummies(',').add_prefix('mech_').replace({1:True,0:False})\n",
    "\n",
    "# concatenating with original dataframe and dropping the category and mechanic columns\n",
    "bgg = pd.concat([bgg, cat_dummy, mech_dummy], axis=1)\n",
    "bgg.drop(columns=['category','mechanic'], inplace=True)"
   ]
  },
  {
   "cell_type": "markdown",
   "metadata": {},
   "source": [
    "### Train-Test-Split, Imputing, Scaling and Dimensionality Reduction"
   ]
  },
  {
   "cell_type": "markdown",
   "metadata": {},
   "source": [
    "The target variable will be Geek Rating, specifically if a game be in the top 1,000. Since its derived from average rating we will drop average rating. Number of voters correlates with Geek Rating, but in this context I want the model to predict the rating of a new game. Any value for number of voters for a new game would be arbitrary. Title, game url, rank, and game id are not relevant to the model and can be dropped."
   ]
  },
  {
   "cell_type": "code",
   "execution_count": 27,
   "metadata": {},
   "outputs": [],
   "source": [
    "# creating binary response column for top 1000 games\n",
    "bgg['top_1000'] = bgg['rank'] <= 1000\n",
    "bgg['top_1000'].replace({True:1,False:0}, inplace=True)"
   ]
  },
  {
   "cell_type": "markdown",
   "metadata": {},
   "source": [
    "#### Train-Test-Split"
   ]
  },
  {
   "cell_type": "code",
   "execution_count": 28,
   "metadata": {},
   "outputs": [],
   "source": [
    "# setting features, X and response variable, y\n",
    "X = bgg.drop(columns=['avg_rating','geek_rating','num_voters','title','full_game_url','rank','game_id','top_1000'])\n",
    "y = bgg.top_1000\n",
    "\n",
    "# splitting data into training and testing sets\n",
    "X_train, X_test, y_train, y_test = train_test_split(X, y, test_size=0.2, random_state=23, shuffle=True)"
   ]
  },
  {
   "cell_type": "markdown",
   "metadata": {},
   "source": [
    "#### Imputing\n",
    "\n",
    "missing values are represented as 0 in this data set. I've chosen kNN to impute the missing values."
   ]
  },
  {
   "cell_type": "code",
   "execution_count": 29,
   "metadata": {},
   "outputs": [],
   "source": [
    "# subsetting numerical values to be imputed\n",
    "X_train_transform = X_train[['age', 'max_play_time','max_players','min_play_time','min_players','weight']]\n",
    "X_test_transform = X_test[['age', 'max_play_time','max_players','min_play_time','min_players','weight']]\n",
    "\n",
    "# instantiating the imputer object\n",
    "knn_imputer = KNNImputer(missing_values=0)\n",
    "\n",
    "# fit to training data \n",
    "knn_imputer.fit(X_train_transform)\n",
    "\n",
    "# transform training data \n",
    "X_train_transform = pd.DataFrame(knn_imputer.transform(X_train_transform),\n",
    "                              columns=['age', 'max_play_time','max_players','min_play_time',\n",
    "                                       'min_players','weight'])\n",
    "\n",
    "# transform test data\n",
    "X_test_transform = pd.DataFrame(knn_imputer.transform(X_test_transform),\n",
    "                              columns=['age', 'max_play_time','max_players','min_play_time',\n",
    "                                       'min_players','weight'])\n",
    "\n",
    "# concatenate imputed columns back with categorical columns\n",
    "X_train = pd.concat([X_train_transform, X_train.iloc[:,6:].reset_index()], axis=1)\n",
    "X_test = pd.concat([X_test_transform, X_test.iloc[:,6:].reset_index()], axis=1)"
   ]
  },
  {
   "cell_type": "markdown",
   "metadata": {},
   "source": [
    "#### Scaling and Dimensionality Reduction\n",
    "\n",
    "The Prince library performs factor analysis of mixed data i.e. it simultaneously applies PCA and MCA all in one step. It also standardizes and scales the numerical variables. I first determine the number of components needed to maintain 90% of the explained variance then fit and transform the data."
   ]
  },
  {
   "cell_type": "code",
   "execution_count": 30,
   "metadata": {},
   "outputs": [
    {
     "name": "stdout",
     "output_type": "stream",
     "text": [
      "125 components are needed to explain 0.9% of the variance\n"
     ]
    }
   ],
   "source": [
    "# dimensionality reduction\n",
    "# factor analysis of mixed data from https://github.com/MaxHalford/prince\n",
    "famd = prince.FAMD(n_components=X_train.shape[1], n_iter=3, copy=True,\n",
    "                   check_input=True, engine='sklearn', random_state=23)\n",
    "\n",
    "famd.fit(X_train)\n",
    "explained_variance = famd.explained_inertia_\n",
    "\n",
    "# function to determine the number of components needed to reach desired explained variance\n",
    "def select_n_components(var_ratio, goal_var: float) -> int:\n",
    "    total_variance = 0.0\n",
    "    n_components = 0\n",
    "    \n",
    "    # for the explained variance of each feature:\n",
    "    for explained_variance in var_ratio:\n",
    "        \n",
    "        # add the explained variance to the total\n",
    "        total_variance += explained_variance\n",
    "        \n",
    "        # add one to the number of components\n",
    "        n_components += 1\n",
    "        \n",
    "        # break if we reach our goal level of explained variance\n",
    "        if total_variance >= goal_var:\n",
    "            break\n",
    "            \n",
    "    # Return the number of components\n",
    "    return n_components\n",
    "\n",
    "goal_var = 0.90\n",
    "components = select_n_components(explained_variance,goal_var)\n",
    "print(f'{components} components are needed to explain {goal_var}% of the variance')"
   ]
  },
  {
   "cell_type": "code",
   "execution_count": 31,
   "metadata": {},
   "outputs": [],
   "source": [
    "# creating factor analysis object with n_components necessary to keep 90% of the variance\n",
    "famd = prince.FAMD(n_components=components, n_iter=3, copy=True,\n",
    "                   check_input=True, engine='sklearn', random_state=23)\n",
    "\n",
    "# fit and transform data\n",
    "famd.fit(X_train)\n",
    "X_train = famd.transform(X_train)\n",
    "X_test = famd.transform(X_test)"
   ]
  },
  {
   "cell_type": "markdown",
   "metadata": {},
   "source": [
    "### Modeling\n",
    "Trying some out of the box models to get a baseline"
   ]
  },
  {
   "cell_type": "code",
   "execution_count": 173,
   "metadata": {},
   "outputs": [],
   "source": [
    "# creating an empty dictionary to store model metrics\n",
    "model_dict = {}"
   ]
  },
  {
   "cell_type": "code",
   "execution_count": 174,
   "metadata": {},
   "outputs": [],
   "source": [
    "# initiating model\n",
    "logreg = LogisticRegression(class_weight='balanced')\n",
    "logreg.fit(X_train, y_train)\n",
    "logreg_pred = logreg.predict(X_test)\n",
    "\n",
    "# metrics\n",
    "logreg_y_pred_prob = logreg.predict_proba(X_test)[:,1]\n",
    "logreg_fpr, logreg_tpr, logreg_roc_threshold = roc_curve(y_test, logreg_y_pred_prob)\n",
    "logreg_roc_auc = roc_auc_score(y_test, logreg_y_pred_prob)\n",
    "logreg_precision, logreg_recall, logreg_pr_threshold = precision_recall_curve(y_test, logreg_y_pred_prob)\n",
    "logreg_f1 = f1_score(y_test, logreg_pred)\n",
    "logreg_pr_auc = auc(logreg_recall, logreg_precision)\n",
    "\n",
    "# adding results to dictionary\n",
    "model_dict['Logistic Regression'] = {'fpr':logreg_fpr,'tpr':logreg_tpr, 'roc_auc':logreg_roc_auc,\n",
    "                                   'precision':logreg_precision, 'recall':logreg_recall,\n",
    "                                     'f1':logreg_f1, 'pr_auc':logreg_pr_auc}"
   ]
  },
  {
   "cell_type": "code",
   "execution_count": 175,
   "metadata": {},
   "outputs": [],
   "source": [
    "# initiating model\n",
    "rf = RandomForestClassifier(random_state=23, max_depth=5)\n",
    "rf.fit(X_train, y_train)\n",
    "rf_pred = rf.predict(X_test)\n",
    "\n",
    "# metrics\n",
    "rf_y_pred_prob = rf.predict_proba(X_test)[:,1]\n",
    "rf_fpr, rf_tpr, rf_threshold = roc_curve(y_test, rf_y_pred_prob)\n",
    "rf_roc_auc = roc_auc_score(y_test, rf_y_pred_prob)\n",
    "rf_precision, rf_recall, rf_pr_threshold = precision_recall_curve(y_test, rf_y_pred_prob)\n",
    "rf_f1 = f1_score(y_test, rf_pred)\n",
    "rf_pr_auc = auc(rf_recall, rf_precision)\n",
    "\n",
    "# adding results to dictionary\n",
    "model_dict['Random Forest'] = {'fpr':rf_fpr,'tpr':rf_tpr, 'roc_auc':rf_roc_auc,\n",
    "                                   'precision':rf_precision, 'recall':rf_recall,\n",
    "                                   'f1':rf_f1, 'pr_auc':rf_pr_auc}"
   ]
  },
  {
   "cell_type": "code",
   "execution_count": 176,
   "metadata": {},
   "outputs": [],
   "source": [
    "# initiating model\n",
    "gb = GradientBoostingClassifier(n_estimators=100, max_depth=3, random_state = 23)\n",
    "gb.fit(X_train, y_train)\n",
    "gb_pred = gb.predict(X_test)\n",
    "\n",
    "# metrics\n",
    "gb_y_pred_prob = gb.predict_proba(X_test)[:,1]\n",
    "gb_fpr, gb_tpr, gb_threshold = roc_curve(y_test, gb_y_pred_prob)\n",
    "gb_roc_auc = roc_auc_score(y_test, gb_y_pred_prob)\n",
    "gb_precision, gb_recall, gb_pr_threshold = precision_recall_curve(y_test, gb_y_pred_prob)\n",
    "gb_f1 = f1_score(y_test, gb_pred)\n",
    "gb_pr_auc = auc(gb_recall, gb_precision)\n",
    "\n",
    "# adding results to dictionary\n",
    "model_dict['Gradient Boosting Classifier'] = {'fpr':gb_fpr,'tpr':gb_tpr, 'roc_auc':gb_roc_auc,\n",
    "                                   'precision':gb_precision, 'recall':gb_recall,\n",
    "                                   'f1':gb_f1, 'pr_auc':gb_pr_auc}"
   ]
  },
  {
   "cell_type": "code",
   "execution_count": 177,
   "metadata": {},
   "outputs": [],
   "source": [
    "# initiating model\n",
    "svc = SVC(class_weight='balanced', probability=True, random_state = 23)\n",
    "svc.fit(X_train, y_train)\n",
    "svc_pred = svc.predict(X_test)\n",
    "\n",
    "# metrics\n",
    "svc_y_pred_prob = svc.predict_proba(X_test)[:,1]\n",
    "svc_fpr, svc_tpr, svc_threshold = roc_curve(y_test, svc_y_pred_prob)\n",
    "svc_roc_auc = roc_auc_score(y_test, svc_y_pred_prob)\n",
    "svc_precision, svc_recall, svc_pr_threshold = precision_recall_curve(y_test, svc_y_pred_prob)\n",
    "svc_f1 = f1_score(y_test, svc_pred)\n",
    "svc_pr_auc = auc(svc_recall, svc_precision)\n",
    "\n",
    "# adding results to dictionary\n",
    "model_dict['SVC'] = {'fpr':svc_fpr,'tpr':svc_tpr, 'roc_auc':svc_roc_auc,\n",
    "                                   'precision':svc_precision, 'recall':svc_recall,\n",
    "                                   'f1':svc_f1, 'pr_auc':svc_pr_auc}"
   ]
  },
  {
   "cell_type": "code",
   "execution_count": 178,
   "metadata": {},
   "outputs": [
    {
     "name": "stdout",
     "output_type": "stream",
     "text": [
      "123.0 neighbors\n"
     ]
    }
   ],
   "source": [
    "# initiating model - sqrt of n data points is a reccomeneded starting point\n",
    "knn = KNeighborsClassifier(n_neighbors=round(np.sqrt(len(X_train))).astype(int), n_jobs=-1)\n",
    "knn.fit(X_train, y_train)\n",
    "knn_pred = knn.predict(X_test)\n",
    "\n",
    "# metrics\n",
    "knn_y_pred_prob = knn.predict_proba(X_test)[:,1]\n",
    "knn_fpr, knn_tpr, knn_threshold = roc_curve(y_test, knn_y_pred_prob)\n",
    "knn_roc_auc = roc_auc_score(y_test, knn_y_pred_prob)\n",
    "knn_precision, knn_recall, knn_pr_threshold = precision_recall_curve(y_test, knn_y_pred_prob)\n",
    "knn_f1 = f1_score(y_test, knn_pred)\n",
    "knn_pr_auc = auc(knn_recall, knn_precision)\n",
    "\n",
    "# adding results to dictionary\n",
    "model_dict['kNN Classifier'] = {'fpr':knn_fpr,'tpr':knn_tpr, 'roc_auc':knn_roc_auc,\n",
    "                                   'precision':knn_precision, 'recall':knn_recall,\n",
    "                                   'f1':knn_f1, 'pr_auc':knn_pr_auc}\n",
    "\n",
    "print(f'{round(np.sqrt(len(X_train)))} neighbors')"
   ]
  },
  {
   "cell_type": "code",
   "execution_count": 179,
   "metadata": {},
   "outputs": [
    {
     "data": {
      "image/png": "[encoded data removed]",
      "text/plain": [
       "<Figure size 720x1440 with 10 Axes>"
      ]
     },
     "metadata": {
      "needs_background": "light"
     },
     "output_type": "display_data"
    }
   ],
   "source": [
    "# create dataframe of the model dictionary\n",
    "model_df=pd.DataFrame(model_dict)\n",
    "\n",
    "no_skill = len(y_test[y_test==1]) / len(y_test) # horizontal line in precision/recall curve\n",
    "\n",
    "\n",
    "_ = plt.subplots(figsize=(10,20))\n",
    "n = 1\n",
    "for col in model_df.columns:\n",
    "    # plot ROC curve\n",
    "    _ = plt.subplot(len(model_df.columns),2,n)\n",
    "    _ = plt.plot([0,1],[0,1], 'k--')\n",
    "    _ = plt.plot(model_df[col]['fpr'], model_df[col]['tpr'])\n",
    "    _ = plt.xlabel('False Positive Rate')\n",
    "    _ = plt.ylabel('True Positive Rate')\n",
    "    _ = plt.title(col + ' ROC Curve')\n",
    "    _ = plt.legend(['roc auc score: ' + str(round(model_df[col]['roc_auc'],4))])\n",
    "    n += 1\n",
    "    \n",
    "    # plot precision-recall curve\n",
    "    _ = plt.subplot(5,2,n)\n",
    "    _ = plt.plot([0, 1], [no_skill, no_skill], linestyle='--')\n",
    "    _ = plt.plot(model_df[col]['recall'], model_df[col]['precision'])\n",
    "    _ = plt.xlabel('Recall')\n",
    "    _ = plt.ylabel('Precision')\n",
    "    _ = plt.title(col + ' Precision-Recall Curve')\n",
    "    _ = plt.legend(['precision/recall auc score: ' + str(round(model_df[col]['pr_auc'],4))])\n",
    "    n += 1\n",
    "    \n",
    "plt.tight_layout()"
   ]
  },
  {
   "cell_type": "code",
   "execution_count": 193,
   "metadata": {},
   "outputs": [
    {
     "data": {
      "text/html": [
       "<div>\n",
       "<style scoped>\n",
       "    .dataframe tbody tr th:only-of-type {\n",
       "        vertical-align: middle;\n",
       "    }\n",
       "\n",
       "    .dataframe tbody tr th {\n",
       "        vertical-align: top;\n",
       "    }\n",
       "\n",
       "    .dataframe thead th {\n",
       "        text-align: right;\n",
       "    }\n",
       "</style>\n",
       "<table border=\"1\" class=\"dataframe\">\n",
       "  <thead>\n",
       "    <tr style=\"text-align: right;\">\n",
       "      <th></th>\n",
       "      <th>roc_auc</th>\n",
       "      <th>pr_auc</th>\n",
       "      <th>f1</th>\n",
       "    </tr>\n",
       "  </thead>\n",
       "  <tbody>\n",
       "    <tr>\n",
       "      <th>Logistic Regression</th>\n",
       "      <td>0.999539</td>\n",
       "      <td>0.992179</td>\n",
       "      <td>0.814229</td>\n",
       "    </tr>\n",
       "    <tr>\n",
       "      <th>Random Forest</th>\n",
       "      <td>0.958202</td>\n",
       "      <td>0.56329</td>\n",
       "      <td>0</td>\n",
       "    </tr>\n",
       "    <tr>\n",
       "      <th>Gradient Boosting Classifier</th>\n",
       "      <td>0.976184</td>\n",
       "      <td>0.696761</td>\n",
       "      <td>0.376923</td>\n",
       "    </tr>\n",
       "    <tr>\n",
       "      <th>SVC</th>\n",
       "      <td>0.99594</td>\n",
       "      <td>0.929865</td>\n",
       "      <td>0.798419</td>\n",
       "    </tr>\n",
       "    <tr>\n",
       "      <th>kNN Classifier</th>\n",
       "      <td>0.946335</td>\n",
       "      <td>0.516242</td>\n",
       "      <td>0</td>\n",
       "    </tr>\n",
       "  </tbody>\n",
       "</table>\n",
       "</div>"
      ],
      "text/plain": [
       "                               roc_auc    pr_auc        f1\n",
       "Logistic Regression           0.999539  0.992179  0.814229\n",
       "Random Forest                 0.958202   0.56329         0\n",
       "Gradient Boosting Classifier  0.976184  0.696761  0.376923\n",
       "SVC                            0.99594  0.929865  0.798419\n",
       "kNN Classifier                0.946335  0.516242         0"
      ]
     },
     "execution_count": 193,
     "metadata": {},
     "output_type": "execute_result"
    }
   ],
   "source": [
    "model_df.loc[['roc_auc','pr_auc','f1']].T"
   ]
  },
  {
   "cell_type": "markdown",
   "metadata": {},
   "source": [
    "I can certainly get better performance from these models, but, even without any tuning, logistic regression is suprisingly promising. I will move forward with tuning the logistic regression model."
   ]
  },
  {
   "cell_type": "markdown",
   "metadata": {},
   "source": [
    "### HyperParameter Tuning\n",
    "\n",
    "First I'll do a GridSearch, but I also want to try out a Bayseian approach to compare."
   ]
  },
  {
   "cell_type": "markdown",
   "metadata": {},
   "source": [
    "#### GridSearch"
   ]
  },
  {
   "cell_type": "code",
   "execution_count": 19,
   "metadata": {},
   "outputs": [
    {
     "name": "stdout",
     "output_type": "stream",
     "text": [
      "Fitting 5 folds for each of 800 candidates, totalling 4000 fits\n"
     ]
    },
    {
     "name": "stderr",
     "output_type": "stream",
     "text": [
      "[Parallel(n_jobs=-1)]: Using backend LokyBackend with 4 concurrent workers.\n",
      "[Parallel(n_jobs=-1)]: Done  52 tasks      | elapsed:    3.9s\n",
      "[Parallel(n_jobs=-1)]: Done 250 tasks      | elapsed:   54.2s\n",
      "[Parallel(n_jobs=-1)]: Done 554 tasks      | elapsed:  2.3min\n",
      "[Parallel(n_jobs=-1)]: Done 960 tasks      | elapsed:  4.7min\n",
      "[Parallel(n_jobs=-1)]: Done 1458 tasks      | elapsed:  8.4min\n",
      "[Parallel(n_jobs=-1)]: Done 2040 tasks      | elapsed: 15.0min\n",
      "[Parallel(n_jobs=-1)]: Done 2746 tasks      | elapsed: 41.1min\n",
      "[Parallel(n_jobs=-1)]: Done 3520 tasks      | elapsed: 73.2min\n",
      "[Parallel(n_jobs=-1)]: Done 4000 out of 4000 | elapsed: 85.8min finished\n"
     ]
    }
   ],
   "source": [
    "# define the range of the parameters to optimize\n",
    "param_grid = {\n",
    "    'penalty' : ['l1', 'l2', 'elasticnet', 'none'],\n",
    "     'class_weight' : [None, 'balanced'],\n",
    "     'C' : np.logspace(-4, 4, 20),\n",
    "     'solver' : ['newton-cg', 'lbfgs', 'liblinear', 'sag', 'saga']}\n",
    "\n",
    "# initiate classifier\n",
    "clf = LogisticRegression(random_state=23)\n",
    "    \n",
    "# initiate gridsearch\n",
    "gs = GridSearchCV(clf, param_grid = param_grid, cv = 5, scoring='f1', verbose=True, n_jobs=-1)\n",
    "\n",
    "# Fit on data and conduct search\n",
    "with warnings.catch_warnings():\n",
    "    warnings.simplefilter(\"ignore\")\n",
    "    best_logreg = gs.fit(X_train, y_train)"
   ]
  },
  {
   "cell_type": "markdown",
   "metadata": {},
   "source": [
    "#### Bayseian Hyperparamter Tuning"
   ]
  },
  {
   "cell_type": "code",
   "execution_count": 23,
   "metadata": {},
   "outputs": [],
   "source": [
    "# define an objective function to be maximized\n",
    "def objective(trial):\n",
    "\n",
    "    # suggest values for the hyperparameters using a trial object\n",
    "    penalty = trial.suggest_categorical('penalty', ['l1', 'l2', 'elasticnet', 'none'])\n",
    "    solver = trial.suggest_categorical('solver', ['newton-cg', 'lbfgs', 'liblinear', 'sag', 'saga'])\n",
    "    c = trial.suggest_uniform('C', 0.01, 3.0)\n",
    "    class_weight = trial.suggest_categorical('class_weight', ['balanced', None])\n",
    "    max_iter = trial.suggest_int('max_iter',50,1000)\n",
    "    \n",
    "    # object to maximize\n",
    "    cv = cross_val_score(\n",
    "        LogisticRegression(penalty=penalty,\n",
    "                           C=c,\n",
    "                           class_weight=class_weight,\n",
    "                           solver=solver,\n",
    "                           max_iter=max_iter,\n",
    "                           random_state=23),\n",
    "        X_train, y_train, cv=5, n_jobs=-1, scoring='f1')\n",
    "    \n",
    "    score = np.mean(cv)\n",
    "    \n",
    "    # if an invalid parameter combinations are tested this tells the sampler to avoid in the future\n",
    "    if score == np.nan:\n",
    "        raise optuna.structs.TrialPruned()\n",
    "    return score"
   ]
  },
  {
   "cell_type": "code",
   "execution_count": 29,
   "metadata": {},
   "outputs": [
    {
     "name": "stderr",
     "output_type": "stream",
     "text": [
      "[I 2020-08-28 12:28:36,690] Trial 0 finished with value: 0.7684774192148632 and parameters: {'penalty': 'none', 'solver': 'sag', 'C': 1.3826001414173743, 'class_weight': 'balanced', 'max_iter': 750}. Best is trial 0 with value: 0.7684774192148632.\n",
      "[I 2020-08-28 12:31:15,158] Trial 1 finished with value: 0.9198879836148197 and parameters: {'penalty': 'l1', 'solver': 'liblinear', 'C': 2.949718704013123, 'class_weight': 'balanced', 'max_iter': 891}. Best is trial 1 with value: 0.9198879836148197.\n",
      "[I 2020-08-28 12:31:28,216] Trial 2 finished with value: 0.8156588003247052 and parameters: {'penalty': 'l2', 'solver': 'sag', 'C': 2.9260539520548288, 'class_weight': None, 'max_iter': 261}. Best is trial 1 with value: 0.9198879836148197.\n",
      "[I 2020-08-28 12:31:47,271] Trial 3 finished with value: 0.7024215292754238 and parameters: {'penalty': 'l1', 'solver': 'saga', 'C': 2.052041400155782, 'class_weight': None, 'max_iter': 185}. Best is trial 1 with value: 0.9198879836148197.\n",
      "[I 2020-08-28 12:32:02,578] Trial 4 finished with value: 0.9536496743567049 and parameters: {'penalty': 'none', 'solver': 'newton-cg', 'C': 2.447208829423313, 'class_weight': None, 'max_iter': 935}. Best is trial 4 with value: 0.9536496743567049.\n",
      "[I 2020-08-28 12:32:05,227] Trial 5 finished with value: 0.8985447689609712 and parameters: {'penalty': 'l2', 'solver': 'liblinear', 'C': 2.5143579701443155, 'class_weight': None, 'max_iter': 531}. Best is trial 4 with value: 0.9536496743567049.\n",
      "[W 2020-08-28 12:32:05,310] Trial 6 failed, because the objective function returned nan.\n",
      "[I 2020-08-28 12:32:08,197] Trial 7 finished with value: 0.7453610681071471 and parameters: {'penalty': 'l2', 'solver': 'liblinear', 'C': 1.5323233788539923, 'class_weight': 'balanced', 'max_iter': 132}. Best is trial 4 with value: 0.9536496743567049.\n",
      "[W 2020-08-28 12:32:08,275] Trial 8 failed, because the objective function returned nan.\n",
      "[I 2020-08-28 12:34:40,186] Trial 9 finished with value: 0.9198879836148197 and parameters: {'penalty': 'l1', 'solver': 'liblinear', 'C': 2.8573546222102846, 'class_weight': 'balanced', 'max_iter': 950}. Best is trial 4 with value: 0.9536496743567049.\n",
      "[I 2020-08-28 12:35:02,728] Trial 10 finished with value: 0.6628231904594049 and parameters: {'penalty': 'l2', 'solver': 'saga', 'C': 1.908082502366545, 'class_weight': 'balanced', 'max_iter': 356}. Best is trial 4 with value: 0.9536496743567049.\n",
      "[W 2020-08-28 12:35:02,811] Trial 11 failed, because the objective function returned nan.\n",
      "[W 2020-08-28 12:35:02,888] Trial 12 failed, because the objective function returned nan.\n",
      "[W 2020-08-28 12:35:02,970] Trial 13 failed, because the objective function returned nan.\n",
      "[W 2020-08-28 12:35:03,058] Trial 14 failed, because the objective function returned nan.\n",
      "[W 2020-08-28 12:35:03,134] Trial 15 failed, because the objective function returned nan.\n",
      "[I 2020-08-28 12:35:52,671] Trial 16 finished with value: 0.8513182930674088 and parameters: {'penalty': 'none', 'solver': 'saga', 'C': 2.097281653859382, 'class_weight': None, 'max_iter': 788}. Best is trial 4 with value: 0.9536496743567049.\n",
      "[W 2020-08-28 12:35:52,773] Trial 17 failed, because the objective function returned nan.\n",
      "[W 2020-08-28 12:35:52,868] Trial 18 failed, because the objective function returned nan.\n",
      "[W 2020-08-28 12:35:52,963] Trial 19 failed, because the objective function returned nan.\n",
      "[W 2020-08-28 12:35:53,056] Trial 20 failed, because the objective function returned nan.\n",
      "[W 2020-08-28 12:35:53,154] Trial 21 failed, because the objective function returned nan.\n",
      "[W 2020-08-28 12:35:53,237] Trial 22 failed, because the objective function returned nan.\n",
      "[W 2020-08-28 12:35:53,325] Trial 23 failed, because the objective function returned nan.\n",
      "[W 2020-08-28 12:35:53,437] Trial 24 failed, because the objective function returned nan.\n",
      "[W 2020-08-28 12:35:53,549] Trial 25 failed, because the objective function returned nan.\n",
      "[W 2020-08-28 12:35:53,642] Trial 26 failed, because the objective function returned nan.\n",
      "[W 2020-08-28 12:35:53,731] Trial 27 failed, because the objective function returned nan.\n",
      "[W 2020-08-28 12:35:53,841] Trial 28 failed, because the objective function returned nan.\n",
      "[W 2020-08-28 12:35:53,937] Trial 29 failed, because the objective function returned nan.\n",
      "[W 2020-08-28 12:35:54,046] Trial 30 failed, because the objective function returned nan.\n",
      "[W 2020-08-28 12:35:54,150] Trial 31 failed, because the objective function returned nan.\n",
      "[W 2020-08-28 12:35:54,245] Trial 32 failed, because the objective function returned nan.\n",
      "[W 2020-08-28 12:35:54,345] Trial 33 failed, because the objective function returned nan.\n",
      "[W 2020-08-28 12:35:54,439] Trial 34 failed, because the objective function returned nan.\n",
      "[W 2020-08-28 12:35:54,540] Trial 35 failed, because the objective function returned nan.\n",
      "[W 2020-08-28 12:35:54,659] Trial 36 failed, because the objective function returned nan.\n",
      "[W 2020-08-28 12:35:54,794] Trial 37 failed, because the objective function returned nan.\n",
      "[W 2020-08-28 12:35:54,922] Trial 38 failed, because the objective function returned nan.\n",
      "[W 2020-08-28 12:35:55,051] Trial 39 failed, because the objective function returned nan.\n",
      "[W 2020-08-28 12:35:55,160] Trial 40 failed, because the objective function returned nan.\n",
      "[W 2020-08-28 12:35:55,278] Trial 41 failed, because the objective function returned nan.\n",
      "[W 2020-08-28 12:35:55,388] Trial 42 failed, because the objective function returned nan.\n",
      "[W 2020-08-28 12:35:55,516] Trial 43 failed, because the objective function returned nan.\n",
      "[W 2020-08-28 12:35:55,608] Trial 44 failed, because the objective function returned nan.\n",
      "[W 2020-08-28 12:35:55,702] Trial 45 failed, because the objective function returned nan.\n",
      "[W 2020-08-28 12:35:55,790] Trial 46 failed, because the objective function returned nan.\n",
      "[W 2020-08-28 12:35:55,890] Trial 47 failed, because the objective function returned nan.\n",
      "[W 2020-08-28 12:35:55,982] Trial 48 failed, because the objective function returned nan.\n",
      "[W 2020-08-28 12:35:56,062] Trial 49 failed, because the objective function returned nan.\n",
      "[W 2020-08-28 12:35:56,152] Trial 50 failed, because the objective function returned nan.\n",
      "[W 2020-08-28 12:35:56,267] Trial 51 failed, because the objective function returned nan.\n",
      "[W 2020-08-28 12:35:56,379] Trial 52 failed, because the objective function returned nan.\n",
      "[W 2020-08-28 12:35:56,474] Trial 53 failed, because the objective function returned nan.\n",
      "[W 2020-08-28 12:35:56,575] Trial 54 failed, because the objective function returned nan.\n",
      "[W 2020-08-28 12:35:56,670] Trial 55 failed, because the objective function returned nan.\n",
      "[W 2020-08-28 12:35:56,752] Trial 56 failed, because the objective function returned nan.\n",
      "[W 2020-08-28 12:35:56,847] Trial 57 failed, because the objective function returned nan.\n",
      "[W 2020-08-28 12:35:56,933] Trial 58 failed, because the objective function returned nan.\n",
      "[W 2020-08-28 12:35:57,018] Trial 59 failed, because the objective function returned nan.\n",
      "[W 2020-08-28 12:35:57,121] Trial 60 failed, because the objective function returned nan.\n",
      "[W 2020-08-28 12:35:57,214] Trial 61 failed, because the objective function returned nan.\n",
      "[W 2020-08-28 12:35:57,301] Trial 62 failed, because the objective function returned nan.\n",
      "[W 2020-08-28 12:35:57,379] Trial 63 failed, because the objective function returned nan.\n",
      "[W 2020-08-28 12:35:57,465] Trial 64 failed, because the objective function returned nan.\n",
      "[W 2020-08-28 12:35:57,546] Trial 65 failed, because the objective function returned nan.\n",
      "[W 2020-08-28 12:35:57,635] Trial 66 failed, because the objective function returned nan.\n",
      "[W 2020-08-28 12:35:57,729] Trial 67 failed, because the objective function returned nan.\n",
      "[W 2020-08-28 12:35:57,823] Trial 68 failed, because the objective function returned nan.\n",
      "[W 2020-08-28 12:35:57,927] Trial 69 failed, because the objective function returned nan.\n",
      "[W 2020-08-28 12:35:58,029] Trial 70 failed, because the objective function returned nan.\n",
      "[W 2020-08-28 12:35:58,134] Trial 71 failed, because the objective function returned nan.\n",
      "[W 2020-08-28 12:35:58,241] Trial 72 failed, because the objective function returned nan.\n",
      "[W 2020-08-28 12:35:58,335] Trial 73 failed, because the objective function returned nan.\n",
      "[W 2020-08-28 12:35:58,426] Trial 74 failed, because the objective function returned nan.\n",
      "[W 2020-08-28 12:35:58,520] Trial 75 failed, because the objective function returned nan.\n",
      "[W 2020-08-28 12:35:58,611] Trial 76 failed, because the objective function returned nan.\n",
      "[W 2020-08-28 12:35:58,692] Trial 77 failed, because the objective function returned nan.\n",
      "[W 2020-08-28 12:35:58,790] Trial 78 failed, because the objective function returned nan.\n",
      "[W 2020-08-28 12:35:58,876] Trial 79 failed, because the objective function returned nan.\n",
      "[W 2020-08-28 12:35:58,972] Trial 80 failed, because the objective function returned nan.\n",
      "[W 2020-08-28 12:35:59,067] Trial 81 failed, because the objective function returned nan.\n",
      "[W 2020-08-28 12:35:59,155] Trial 82 failed, because the objective function returned nan.\n",
      "[W 2020-08-28 12:35:59,252] Trial 83 failed, because the objective function returned nan.\n",
      "[W 2020-08-28 12:35:59,343] Trial 84 failed, because the objective function returned nan.\n",
      "[W 2020-08-28 12:35:59,447] Trial 85 failed, because the objective function returned nan.\n",
      "[W 2020-08-28 12:35:59,533] Trial 86 failed, because the objective function returned nan.\n",
      "[W 2020-08-28 12:35:59,610] Trial 87 failed, because the objective function returned nan.\n",
      "[W 2020-08-28 12:35:59,681] Trial 88 failed, because the objective function returned nan.\n",
      "[W 2020-08-28 12:35:59,755] Trial 89 failed, because the objective function returned nan.\n",
      "[W 2020-08-28 12:35:59,832] Trial 90 failed, because the objective function returned nan.\n",
      "[W 2020-08-28 12:35:59,906] Trial 91 failed, because the objective function returned nan.\n",
      "[W 2020-08-28 12:35:59,986] Trial 92 failed, because the objective function returned nan.\n",
      "[W 2020-08-28 12:36:00,063] Trial 93 failed, because the objective function returned nan.\n",
      "[W 2020-08-28 12:36:00,142] Trial 94 failed, because the objective function returned nan.\n",
      "[W 2020-08-28 12:36:00,237] Trial 95 failed, because the objective function returned nan.\n",
      "[W 2020-08-28 12:36:00,326] Trial 96 failed, because the objective function returned nan.\n",
      "[W 2020-08-28 12:36:00,418] Trial 97 failed, because the objective function returned nan.\n",
      "[W 2020-08-28 12:36:00,504] Trial 98 failed, because the objective function returned nan.\n",
      "[W 2020-08-28 12:36:00,592] Trial 99 failed, because the objective function returned nan.\n",
      "[W 2020-08-28 12:36:00,685] Trial 100 failed, because the objective function returned nan.\n",
      "[W 2020-08-28 12:36:00,777] Trial 101 failed, because the objective function returned nan.\n",
      "[W 2020-08-28 12:36:00,876] Trial 102 failed, because the objective function returned nan.\n",
      "[W 2020-08-28 12:36:00,971] Trial 103 failed, because the objective function returned nan.\n",
      "[W 2020-08-28 12:36:01,050] Trial 104 failed, because the objective function returned nan.\n",
      "[W 2020-08-28 12:36:01,142] Trial 105 failed, because the objective function returned nan.\n",
      "[W 2020-08-28 12:36:01,235] Trial 106 failed, because the objective function returned nan.\n",
      "[W 2020-08-28 12:36:01,344] Trial 107 failed, because the objective function returned nan.\n",
      "[W 2020-08-28 12:36:01,438] Trial 108 failed, because the objective function returned nan.\n",
      "[W 2020-08-28 12:36:01,528] Trial 109 failed, because the objective function returned nan.\n",
      "[W 2020-08-28 12:36:01,654] Trial 110 failed, because the objective function returned nan.\n",
      "[W 2020-08-28 12:36:01,767] Trial 111 failed, because the objective function returned nan.\n",
      "[W 2020-08-28 12:36:01,880] Trial 112 failed, because the objective function returned nan.\n",
      "[W 2020-08-28 12:36:01,993] Trial 113 failed, because the objective function returned nan.\n",
      "[W 2020-08-28 12:36:02,107] Trial 114 failed, because the objective function returned nan.\n",
      "[W 2020-08-28 12:36:02,223] Trial 115 failed, because the objective function returned nan.\n",
      "[W 2020-08-28 12:36:02,345] Trial 116 failed, because the objective function returned nan.\n",
      "[W 2020-08-28 12:36:02,454] Trial 117 failed, because the objective function returned nan.\n",
      "[W 2020-08-28 12:36:02,537] Trial 118 failed, because the objective function returned nan.\n",
      "[W 2020-08-28 12:36:02,652] Trial 119 failed, because the objective function returned nan.\n",
      "[W 2020-08-28 12:36:02,751] Trial 120 failed, because the objective function returned nan.\n",
      "[W 2020-08-28 12:36:02,857] Trial 121 failed, because the objective function returned nan.\n",
      "[W 2020-08-28 12:36:02,949] Trial 122 failed, because the objective function returned nan.\n",
      "[W 2020-08-28 12:36:03,033] Trial 123 failed, because the objective function returned nan.\n",
      "[W 2020-08-28 12:36:03,130] Trial 124 failed, because the objective function returned nan.\n",
      "[W 2020-08-28 12:36:03,236] Trial 125 failed, because the objective function returned nan.\n",
      "[W 2020-08-28 12:36:03,361] Trial 126 failed, because the objective function returned nan.\n",
      "[W 2020-08-28 12:36:03,475] Trial 127 failed, because the objective function returned nan.\n",
      "[W 2020-08-28 12:36:03,606] Trial 128 failed, because the objective function returned nan.\n",
      "[W 2020-08-28 12:36:03,714] Trial 129 failed, because the objective function returned nan.\n",
      "[W 2020-08-28 12:36:03,803] Trial 130 failed, because the objective function returned nan.\n",
      "[W 2020-08-28 12:36:03,889] Trial 131 failed, because the objective function returned nan.\n",
      "[W 2020-08-28 12:36:03,976] Trial 132 failed, because the objective function returned nan.\n",
      "[W 2020-08-28 12:36:04,071] Trial 133 failed, because the objective function returned nan.\n",
      "[W 2020-08-28 12:36:04,161] Trial 134 failed, because the objective function returned nan.\n",
      "[W 2020-08-28 12:36:04,258] Trial 135 failed, because the objective function returned nan.\n",
      "[W 2020-08-28 12:36:04,356] Trial 136 failed, because the objective function returned nan.\n",
      "[W 2020-08-28 12:36:04,472] Trial 137 failed, because the objective function returned nan.\n",
      "[W 2020-08-28 12:36:04,578] Trial 138 failed, because the objective function returned nan.\n",
      "[W 2020-08-28 12:36:04,674] Trial 139 failed, because the objective function returned nan.\n",
      "[W 2020-08-28 12:36:04,762] Trial 140 failed, because the objective function returned nan.\n",
      "[W 2020-08-28 12:36:04,833] Trial 141 failed, because the objective function returned nan.\n",
      "[W 2020-08-28 12:36:04,911] Trial 142 failed, because the objective function returned nan.\n",
      "[W 2020-08-28 12:36:04,994] Trial 143 failed, because the objective function returned nan.\n",
      "[W 2020-08-28 12:36:05,066] Trial 144 failed, because the objective function returned nan.\n",
      "[W 2020-08-28 12:36:05,147] Trial 145 failed, because the objective function returned nan.\n",
      "[W 2020-08-28 12:36:05,235] Trial 146 failed, because the objective function returned nan.\n",
      "[W 2020-08-28 12:36:05,316] Trial 147 failed, because the objective function returned nan.\n",
      "[W 2020-08-28 12:36:05,390] Trial 148 failed, because the objective function returned nan.\n",
      "[W 2020-08-28 12:36:05,481] Trial 149 failed, because the objective function returned nan.\n",
      "[W 2020-08-28 12:36:05,565] Trial 150 failed, because the objective function returned nan.\n",
      "[W 2020-08-28 12:36:05,646] Trial 151 failed, because the objective function returned nan.\n",
      "[W 2020-08-28 12:36:05,726] Trial 152 failed, because the objective function returned nan.\n",
      "[W 2020-08-28 12:36:05,799] Trial 153 failed, because the objective function returned nan.\n",
      "[W 2020-08-28 12:36:05,883] Trial 154 failed, because the objective function returned nan.\n",
      "[W 2020-08-28 12:36:05,965] Trial 155 failed, because the objective function returned nan.\n",
      "[W 2020-08-28 12:36:06,054] Trial 156 failed, because the objective function returned nan.\n",
      "[W 2020-08-28 12:36:06,145] Trial 157 failed, because the objective function returned nan.\n",
      "[W 2020-08-28 12:36:06,241] Trial 158 failed, because the objective function returned nan.\n",
      "[W 2020-08-28 12:36:06,340] Trial 159 failed, because the objective function returned nan.\n",
      "[W 2020-08-28 12:36:06,447] Trial 160 failed, because the objective function returned nan.\n",
      "[W 2020-08-28 12:36:06,553] Trial 161 failed, because the objective function returned nan.\n",
      "[W 2020-08-28 12:36:06,646] Trial 162 failed, because the objective function returned nan.\n"
     ]
    },
    {
     "name": "stderr",
     "output_type": "stream",
     "text": [
      "[W 2020-08-28 12:36:06,727] Trial 163 failed, because the objective function returned nan.\n",
      "[W 2020-08-28 12:36:06,830] Trial 164 failed, because the objective function returned nan.\n",
      "[W 2020-08-28 12:36:06,911] Trial 165 failed, because the objective function returned nan.\n",
      "[W 2020-08-28 12:36:06,991] Trial 166 failed, because the objective function returned nan.\n",
      "[W 2020-08-28 12:36:07,074] Trial 167 failed, because the objective function returned nan.\n",
      "[W 2020-08-28 12:36:07,147] Trial 168 failed, because the objective function returned nan.\n",
      "[W 2020-08-28 12:36:07,222] Trial 169 failed, because the objective function returned nan.\n",
      "[W 2020-08-28 12:36:07,300] Trial 170 failed, because the objective function returned nan.\n",
      "[W 2020-08-28 12:36:07,383] Trial 171 failed, because the objective function returned nan.\n",
      "[W 2020-08-28 12:36:07,462] Trial 172 failed, because the objective function returned nan.\n",
      "[W 2020-08-28 12:36:07,535] Trial 173 failed, because the objective function returned nan.\n",
      "[W 2020-08-28 12:36:07,620] Trial 174 failed, because the objective function returned nan.\n",
      "[W 2020-08-28 12:36:07,690] Trial 175 failed, because the objective function returned nan.\n",
      "[W 2020-08-28 12:36:07,776] Trial 176 failed, because the objective function returned nan.\n",
      "[W 2020-08-28 12:36:07,857] Trial 177 failed, because the objective function returned nan.\n",
      "[W 2020-08-28 12:36:07,939] Trial 178 failed, because the objective function returned nan.\n",
      "[W 2020-08-28 12:36:08,019] Trial 179 failed, because the objective function returned nan.\n",
      "[W 2020-08-28 12:36:08,100] Trial 180 failed, because the objective function returned nan.\n",
      "[W 2020-08-28 12:36:08,186] Trial 181 failed, because the objective function returned nan.\n",
      "[W 2020-08-28 12:36:08,269] Trial 182 failed, because the objective function returned nan.\n",
      "[W 2020-08-28 12:36:08,355] Trial 183 failed, because the objective function returned nan.\n",
      "[W 2020-08-28 12:36:08,443] Trial 184 failed, because the objective function returned nan.\n",
      "[W 2020-08-28 12:36:08,525] Trial 185 failed, because the objective function returned nan.\n",
      "[W 2020-08-28 12:36:08,636] Trial 186 failed, because the objective function returned nan.\n",
      "[W 2020-08-28 12:36:08,729] Trial 187 failed, because the objective function returned nan.\n",
      "[W 2020-08-28 12:36:08,818] Trial 188 failed, because the objective function returned nan.\n",
      "[W 2020-08-28 12:36:08,899] Trial 189 failed, because the objective function returned nan.\n",
      "[W 2020-08-28 12:36:08,993] Trial 190 failed, because the objective function returned nan.\n",
      "[W 2020-08-28 12:36:09,074] Trial 191 failed, because the objective function returned nan.\n",
      "[W 2020-08-28 12:36:09,163] Trial 192 failed, because the objective function returned nan.\n",
      "[W 2020-08-28 12:36:09,262] Trial 193 failed, because the objective function returned nan.\n",
      "[W 2020-08-28 12:36:09,344] Trial 194 failed, because the objective function returned nan.\n",
      "[W 2020-08-28 12:36:09,428] Trial 195 failed, because the objective function returned nan.\n",
      "[W 2020-08-28 12:36:09,500] Trial 196 failed, because the objective function returned nan.\n",
      "[W 2020-08-28 12:36:09,598] Trial 197 failed, because the objective function returned nan.\n",
      "[W 2020-08-28 12:36:09,687] Trial 198 failed, because the objective function returned nan.\n",
      "[W 2020-08-28 12:36:09,775] Trial 199 failed, because the objective function returned nan.\n",
      "[W 2020-08-28 12:36:09,882] Trial 200 failed, because the objective function returned nan.\n",
      "[W 2020-08-28 12:36:09,985] Trial 201 failed, because the objective function returned nan.\n",
      "[W 2020-08-28 12:36:10,097] Trial 202 failed, because the objective function returned nan.\n",
      "[W 2020-08-28 12:36:10,197] Trial 203 failed, because the objective function returned nan.\n",
      "[W 2020-08-28 12:36:10,298] Trial 204 failed, because the objective function returned nan.\n",
      "[W 2020-08-28 12:36:10,419] Trial 205 failed, because the objective function returned nan.\n",
      "[W 2020-08-28 12:36:10,516] Trial 206 failed, because the objective function returned nan.\n",
      "[W 2020-08-28 12:36:10,634] Trial 207 failed, because the objective function returned nan.\n",
      "[W 2020-08-28 12:36:10,739] Trial 208 failed, because the objective function returned nan.\n",
      "[W 2020-08-28 12:36:10,841] Trial 209 failed, because the objective function returned nan.\n",
      "[W 2020-08-28 12:36:10,940] Trial 210 failed, because the objective function returned nan.\n",
      "[W 2020-08-28 12:36:11,051] Trial 211 failed, because the objective function returned nan.\n",
      "[W 2020-08-28 12:36:11,155] Trial 212 failed, because the objective function returned nan.\n",
      "[W 2020-08-28 12:36:11,255] Trial 213 failed, because the objective function returned nan.\n",
      "[W 2020-08-28 12:36:11,356] Trial 214 failed, because the objective function returned nan.\n",
      "[W 2020-08-28 12:36:11,484] Trial 215 failed, because the objective function returned nan.\n",
      "[W 2020-08-28 12:36:11,603] Trial 216 failed, because the objective function returned nan.\n",
      "[W 2020-08-28 12:36:11,735] Trial 217 failed, because the objective function returned nan.\n",
      "[W 2020-08-28 12:36:11,851] Trial 218 failed, because the objective function returned nan.\n",
      "[W 2020-08-28 12:36:11,941] Trial 219 failed, because the objective function returned nan.\n",
      "[W 2020-08-28 12:36:12,040] Trial 220 failed, because the objective function returned nan.\n",
      "[W 2020-08-28 12:36:12,133] Trial 221 failed, because the objective function returned nan.\n",
      "[W 2020-08-28 12:36:12,226] Trial 222 failed, because the objective function returned nan.\n",
      "[W 2020-08-28 12:36:12,322] Trial 223 failed, because the objective function returned nan.\n",
      "[W 2020-08-28 12:36:12,416] Trial 224 failed, because the objective function returned nan.\n",
      "[W 2020-08-28 12:36:12,505] Trial 225 failed, because the objective function returned nan.\n",
      "[W 2020-08-28 12:36:12,623] Trial 226 failed, because the objective function returned nan.\n",
      "[W 2020-08-28 12:36:12,720] Trial 227 failed, because the objective function returned nan.\n",
      "[W 2020-08-28 12:36:12,803] Trial 228 failed, because the objective function returned nan.\n",
      "[W 2020-08-28 12:36:12,897] Trial 229 failed, because the objective function returned nan.\n",
      "[W 2020-08-28 12:36:12,982] Trial 230 failed, because the objective function returned nan.\n",
      "[W 2020-08-28 12:36:13,064] Trial 231 failed, because the objective function returned nan.\n",
      "[W 2020-08-28 12:36:13,138] Trial 232 failed, because the objective function returned nan.\n",
      "[W 2020-08-28 12:36:13,223] Trial 233 failed, because the objective function returned nan.\n",
      "[W 2020-08-28 12:36:13,325] Trial 234 failed, because the objective function returned nan.\n",
      "[W 2020-08-28 12:36:13,412] Trial 235 failed, because the objective function returned nan.\n",
      "[W 2020-08-28 12:36:13,498] Trial 236 failed, because the objective function returned nan.\n",
      "[W 2020-08-28 12:36:13,588] Trial 237 failed, because the objective function returned nan.\n",
      "[W 2020-08-28 12:36:13,673] Trial 238 failed, because the objective function returned nan.\n",
      "[W 2020-08-28 12:36:13,767] Trial 239 failed, because the objective function returned nan.\n",
      "[W 2020-08-28 12:36:13,864] Trial 240 failed, because the objective function returned nan.\n",
      "[W 2020-08-28 12:36:13,959] Trial 241 failed, because the objective function returned nan.\n",
      "[W 2020-08-28 12:36:14,051] Trial 242 failed, because the objective function returned nan.\n",
      "[W 2020-08-28 12:36:14,136] Trial 243 failed, because the objective function returned nan.\n",
      "[W 2020-08-28 12:36:14,211] Trial 244 failed, because the objective function returned nan.\n",
      "[W 2020-08-28 12:36:14,299] Trial 245 failed, because the objective function returned nan.\n",
      "[W 2020-08-28 12:36:14,388] Trial 246 failed, because the objective function returned nan.\n",
      "[W 2020-08-28 12:36:14,464] Trial 247 failed, because the objective function returned nan.\n",
      "[W 2020-08-28 12:36:14,547] Trial 248 failed, because the objective function returned nan.\n",
      "[W 2020-08-28 12:36:14,630] Trial 249 failed, because the objective function returned nan.\n",
      "[W 2020-08-28 12:36:14,714] Trial 250 failed, because the objective function returned nan.\n",
      "[W 2020-08-28 12:36:14,804] Trial 251 failed, because the objective function returned nan.\n",
      "[W 2020-08-28 12:36:14,886] Trial 252 failed, because the objective function returned nan.\n",
      "[W 2020-08-28 12:36:14,978] Trial 253 failed, because the objective function returned nan.\n",
      "[W 2020-08-28 12:36:15,057] Trial 254 failed, because the objective function returned nan.\n",
      "[W 2020-08-28 12:36:15,140] Trial 255 failed, because the objective function returned nan.\n",
      "[W 2020-08-28 12:36:15,216] Trial 256 failed, because the objective function returned nan.\n",
      "[W 2020-08-28 12:36:15,301] Trial 257 failed, because the objective function returned nan.\n",
      "[W 2020-08-28 12:36:15,378] Trial 258 failed, because the objective function returned nan.\n",
      "[W 2020-08-28 12:36:15,451] Trial 259 failed, because the objective function returned nan.\n",
      "[W 2020-08-28 12:36:15,534] Trial 260 failed, because the objective function returned nan.\n",
      "[W 2020-08-28 12:36:15,613] Trial 261 failed, because the objective function returned nan.\n",
      "[W 2020-08-28 12:36:15,691] Trial 262 failed, because the objective function returned nan.\n",
      "[W 2020-08-28 12:36:15,776] Trial 263 failed, because the objective function returned nan.\n",
      "[I 2020-08-28 12:36:30,517] Trial 264 finished with value: 0.9536496743567049 and parameters: {'penalty': 'none', 'solver': 'newton-cg', 'C': 0.3066276872176923, 'class_weight': None, 'max_iter': 577}. Best is trial 4 with value: 0.9536496743567049.\n",
      "[W 2020-08-28 12:36:30,595] Trial 265 failed, because the objective function returned nan.\n",
      "[W 2020-08-28 12:36:30,674] Trial 266 failed, because the objective function returned nan.\n",
      "[W 2020-08-28 12:36:30,754] Trial 267 failed, because the objective function returned nan.\n",
      "[W 2020-08-28 12:36:30,830] Trial 268 failed, because the objective function returned nan.\n",
      "[W 2020-08-28 12:36:30,902] Trial 269 failed, because the objective function returned nan.\n",
      "[W 2020-08-28 12:36:30,979] Trial 270 failed, because the objective function returned nan.\n",
      "[W 2020-08-28 12:36:31,060] Trial 271 failed, because the objective function returned nan.\n",
      "[W 2020-08-28 12:36:31,133] Trial 272 failed, because the objective function returned nan.\n",
      "[W 2020-08-28 12:36:31,210] Trial 273 failed, because the objective function returned nan.\n",
      "[W 2020-08-28 12:36:31,278] Trial 274 failed, because the objective function returned nan.\n",
      "[W 2020-08-28 12:36:31,354] Trial 275 failed, because the objective function returned nan.\n",
      "[W 2020-08-28 12:36:31,428] Trial 276 failed, because the objective function returned nan.\n",
      "[W 2020-08-28 12:36:31,515] Trial 277 failed, because the objective function returned nan.\n",
      "[W 2020-08-28 12:36:31,594] Trial 278 failed, because the objective function returned nan.\n",
      "[W 2020-08-28 12:36:31,670] Trial 279 failed, because the objective function returned nan.\n",
      "[W 2020-08-28 12:36:31,741] Trial 280 failed, because the objective function returned nan.\n",
      "[W 2020-08-28 12:36:31,817] Trial 281 failed, because the objective function returned nan.\n",
      "[W 2020-08-28 12:36:31,896] Trial 282 failed, because the objective function returned nan.\n",
      "[W 2020-08-28 12:36:31,972] Trial 283 failed, because the objective function returned nan.\n",
      "[W 2020-08-28 12:36:32,047] Trial 284 failed, because the objective function returned nan.\n",
      "[W 2020-08-28 12:36:32,126] Trial 285 failed, because the objective function returned nan.\n",
      "[W 2020-08-28 12:36:32,203] Trial 286 failed, because the objective function returned nan.\n",
      "[W 2020-08-28 12:36:32,278] Trial 287 failed, because the objective function returned nan.\n",
      "[W 2020-08-28 12:36:32,356] Trial 288 failed, because the objective function returned nan.\n",
      "[W 2020-08-28 12:36:32,428] Trial 289 failed, because the objective function returned nan.\n",
      "[W 2020-08-28 12:36:32,504] Trial 290 failed, because the objective function returned nan.\n",
      "[W 2020-08-28 12:36:32,581] Trial 291 failed, because the objective function returned nan.\n",
      "[W 2020-08-28 12:36:32,659] Trial 292 failed, because the objective function returned nan.\n",
      "[W 2020-08-28 12:36:32,736] Trial 293 failed, because the objective function returned nan.\n",
      "[W 2020-08-28 12:36:32,815] Trial 294 failed, because the objective function returned nan.\n",
      "[W 2020-08-28 12:36:32,894] Trial 295 failed, because the objective function returned nan.\n",
      "[W 2020-08-28 12:36:32,979] Trial 296 failed, because the objective function returned nan.\n",
      "[W 2020-08-28 12:36:33,051] Trial 297 failed, because the objective function returned nan.\n",
      "[W 2020-08-28 12:36:33,135] Trial 298 failed, because the objective function returned nan.\n",
      "[W 2020-08-28 12:36:33,213] Trial 299 failed, because the objective function returned nan.\n",
      "[W 2020-08-28 12:36:33,295] Trial 300 failed, because the objective function returned nan.\n",
      "[W 2020-08-28 12:36:33,371] Trial 301 failed, because the objective function returned nan.\n",
      "[W 2020-08-28 12:36:33,452] Trial 302 failed, because the objective function returned nan.\n",
      "[W 2020-08-28 12:36:33,527] Trial 303 failed, because the objective function returned nan.\n",
      "[W 2020-08-28 12:36:33,619] Trial 304 failed, because the objective function returned nan.\n",
      "[W 2020-08-28 12:36:33,691] Trial 305 failed, because the objective function returned nan.\n",
      "[W 2020-08-28 12:36:33,771] Trial 306 failed, because the objective function returned nan.\n",
      "[W 2020-08-28 12:36:33,848] Trial 307 failed, because the objective function returned nan.\n",
      "[W 2020-08-28 12:36:33,926] Trial 308 failed, because the objective function returned nan.\n",
      "[W 2020-08-28 12:36:34,002] Trial 309 failed, because the objective function returned nan.\n",
      "[I 2020-08-28 12:36:48,563] Trial 310 finished with value: 0.9536496743567049 and parameters: {'penalty': 'none', 'solver': 'newton-cg', 'C': 0.3323575802004872, 'class_weight': None, 'max_iter': 494}. Best is trial 4 with value: 0.9536496743567049.\n",
      "[W 2020-08-28 12:36:48,650] Trial 311 failed, because the objective function returned nan.\n",
      "[W 2020-08-28 12:36:48,733] Trial 312 failed, because the objective function returned nan.\n",
      "[W 2020-08-28 12:36:48,809] Trial 313 failed, because the objective function returned nan.\n",
      "[W 2020-08-28 12:36:48,883] Trial 314 failed, because the objective function returned nan.\n",
      "[W 2020-08-28 12:36:48,964] Trial 315 failed, because the objective function returned nan.\n",
      "[W 2020-08-28 12:36:49,040] Trial 316 failed, because the objective function returned nan.\n",
      "[W 2020-08-28 12:36:49,113] Trial 317 failed, because the objective function returned nan.\n",
      "[W 2020-08-28 12:36:49,191] Trial 318 failed, because the objective function returned nan.\n",
      "[W 2020-08-28 12:36:49,275] Trial 319 failed, because the objective function returned nan.\n",
      "[W 2020-08-28 12:36:49,357] Trial 320 failed, because the objective function returned nan.\n",
      "[W 2020-08-28 12:36:49,443] Trial 321 failed, because the objective function returned nan.\n",
      "[W 2020-08-28 12:36:49,520] Trial 322 failed, because the objective function returned nan.\n",
      "[W 2020-08-28 12:36:49,594] Trial 323 failed, because the objective function returned nan.\n",
      "[W 2020-08-28 12:36:49,672] Trial 324 failed, because the objective function returned nan.\n",
      "[W 2020-08-28 12:36:49,751] Trial 325 failed, because the objective function returned nan.\n",
      "[W 2020-08-28 12:36:49,824] Trial 326 failed, because the objective function returned nan.\n",
      "[W 2020-08-28 12:36:49,901] Trial 327 failed, because the objective function returned nan.\n",
      "[W 2020-08-28 12:36:49,976] Trial 328 failed, because the objective function returned nan.\n",
      "[W 2020-08-28 12:36:50,059] Trial 329 failed, because the objective function returned nan.\n",
      "[W 2020-08-28 12:36:50,134] Trial 330 failed, because the objective function returned nan.\n",
      "[W 2020-08-28 12:36:50,213] Trial 331 failed, because the objective function returned nan.\n",
      "[W 2020-08-28 12:36:50,286] Trial 332 failed, because the objective function returned nan.\n",
      "[W 2020-08-28 12:36:50,360] Trial 333 failed, because the objective function returned nan.\n",
      "[W 2020-08-28 12:36:50,441] Trial 334 failed, because the objective function returned nan.\n",
      "[W 2020-08-28 12:36:50,520] Trial 335 failed, because the objective function returned nan.\n",
      "[W 2020-08-28 12:36:50,598] Trial 336 failed, because the objective function returned nan.\n",
      "[W 2020-08-28 12:36:50,678] Trial 337 failed, because the objective function returned nan.\n",
      "[W 2020-08-28 12:36:50,756] Trial 338 failed, because the objective function returned nan.\n"
     ]
    },
    {
     "name": "stderr",
     "output_type": "stream",
     "text": [
      "[W 2020-08-28 12:36:50,830] Trial 339 failed, because the objective function returned nan.\n",
      "[W 2020-08-28 12:36:50,907] Trial 340 failed, because the objective function returned nan.\n",
      "[W 2020-08-28 12:36:50,984] Trial 341 failed, because the objective function returned nan.\n",
      "[W 2020-08-28 12:36:51,063] Trial 342 failed, because the objective function returned nan.\n",
      "[W 2020-08-28 12:36:51,140] Trial 343 failed, because the objective function returned nan.\n",
      "[W 2020-08-28 12:36:51,215] Trial 344 failed, because the objective function returned nan.\n",
      "[W 2020-08-28 12:36:51,292] Trial 345 failed, because the objective function returned nan.\n",
      "[W 2020-08-28 12:36:51,370] Trial 346 failed, because the objective function returned nan.\n",
      "[W 2020-08-28 12:36:51,452] Trial 347 failed, because the objective function returned nan.\n",
      "[W 2020-08-28 12:36:51,526] Trial 348 failed, because the objective function returned nan.\n",
      "[W 2020-08-28 12:36:51,609] Trial 349 failed, because the objective function returned nan.\n",
      "[W 2020-08-28 12:36:51,693] Trial 350 failed, because the objective function returned nan.\n",
      "[W 2020-08-28 12:36:51,776] Trial 351 failed, because the objective function returned nan.\n",
      "[W 2020-08-28 12:36:51,860] Trial 352 failed, because the objective function returned nan.\n",
      "[W 2020-08-28 12:36:51,945] Trial 353 failed, because the objective function returned nan.\n",
      "[W 2020-08-28 12:36:52,023] Trial 354 failed, because the objective function returned nan.\n",
      "[W 2020-08-28 12:36:52,105] Trial 355 failed, because the objective function returned nan.\n",
      "[W 2020-08-28 12:36:52,183] Trial 356 failed, because the objective function returned nan.\n",
      "[W 2020-08-28 12:36:52,265] Trial 357 failed, because the objective function returned nan.\n",
      "[W 2020-08-28 12:36:52,347] Trial 358 failed, because the objective function returned nan.\n",
      "[W 2020-08-28 12:36:52,420] Trial 359 failed, because the objective function returned nan.\n",
      "[W 2020-08-28 12:36:52,504] Trial 360 failed, because the objective function returned nan.\n",
      "[W 2020-08-28 12:36:52,583] Trial 361 failed, because the objective function returned nan.\n",
      "[W 2020-08-28 12:36:52,665] Trial 362 failed, because the objective function returned nan.\n",
      "[W 2020-08-28 12:36:52,749] Trial 363 failed, because the objective function returned nan.\n",
      "[W 2020-08-28 12:36:52,830] Trial 364 failed, because the objective function returned nan.\n",
      "[W 2020-08-28 12:36:52,916] Trial 365 failed, because the objective function returned nan.\n",
      "[W 2020-08-28 12:36:52,991] Trial 366 failed, because the objective function returned nan.\n",
      "[W 2020-08-28 12:36:53,078] Trial 367 failed, because the objective function returned nan.\n",
      "[W 2020-08-28 12:36:53,176] Trial 368 failed, because the objective function returned nan.\n",
      "[W 2020-08-28 12:36:53,267] Trial 369 failed, because the objective function returned nan.\n",
      "[W 2020-08-28 12:36:53,352] Trial 370 failed, because the objective function returned nan.\n",
      "[W 2020-08-28 12:36:53,443] Trial 371 failed, because the objective function returned nan.\n",
      "[W 2020-08-28 12:36:53,533] Trial 372 failed, because the objective function returned nan.\n",
      "[W 2020-08-28 12:36:53,623] Trial 373 failed, because the objective function returned nan.\n",
      "[W 2020-08-28 12:36:53,708] Trial 374 failed, because the objective function returned nan.\n",
      "[W 2020-08-28 12:36:53,795] Trial 375 failed, because the objective function returned nan.\n",
      "[W 2020-08-28 12:36:53,874] Trial 376 failed, because the objective function returned nan.\n",
      "[W 2020-08-28 12:36:53,958] Trial 377 failed, because the objective function returned nan.\n",
      "[W 2020-08-28 12:36:54,048] Trial 378 failed, because the objective function returned nan.\n",
      "[W 2020-08-28 12:36:54,130] Trial 379 failed, because the objective function returned nan.\n",
      "[W 2020-08-28 12:36:54,211] Trial 380 failed, because the objective function returned nan.\n",
      "[W 2020-08-28 12:36:54,302] Trial 381 failed, because the objective function returned nan.\n",
      "[W 2020-08-28 12:36:54,380] Trial 382 failed, because the objective function returned nan.\n",
      "[W 2020-08-28 12:36:54,482] Trial 383 failed, because the objective function returned nan.\n",
      "[W 2020-08-28 12:36:54,574] Trial 384 failed, because the objective function returned nan.\n",
      "[W 2020-08-28 12:36:54,671] Trial 385 failed, because the objective function returned nan.\n",
      "[W 2020-08-28 12:36:54,776] Trial 386 failed, because the objective function returned nan.\n",
      "[W 2020-08-28 12:36:54,861] Trial 387 failed, because the objective function returned nan.\n",
      "[W 2020-08-28 12:36:54,938] Trial 388 failed, because the objective function returned nan.\n",
      "[W 2020-08-28 12:36:55,015] Trial 389 failed, because the objective function returned nan.\n",
      "[W 2020-08-28 12:36:55,093] Trial 390 failed, because the objective function returned nan.\n",
      "[W 2020-08-28 12:36:55,167] Trial 391 failed, because the objective function returned nan.\n",
      "[W 2020-08-28 12:36:55,240] Trial 392 failed, because the objective function returned nan.\n",
      "[W 2020-08-28 12:36:55,314] Trial 393 failed, because the objective function returned nan.\n",
      "[W 2020-08-28 12:36:55,393] Trial 394 failed, because the objective function returned nan.\n",
      "[W 2020-08-28 12:36:55,468] Trial 395 failed, because the objective function returned nan.\n",
      "[W 2020-08-28 12:36:55,541] Trial 396 failed, because the objective function returned nan.\n",
      "[W 2020-08-28 12:36:55,636] Trial 397 failed, because the objective function returned nan.\n",
      "[W 2020-08-28 12:36:55,707] Trial 398 failed, because the objective function returned nan.\n",
      "[W 2020-08-28 12:36:55,781] Trial 399 failed, because the objective function returned nan.\n",
      "[W 2020-08-28 12:36:55,851] Trial 400 failed, because the objective function returned nan.\n",
      "[W 2020-08-28 12:36:55,931] Trial 401 failed, because the objective function returned nan.\n",
      "[W 2020-08-28 12:36:56,012] Trial 402 failed, because the objective function returned nan.\n",
      "[W 2020-08-28 12:36:56,082] Trial 403 failed, because the objective function returned nan.\n",
      "[W 2020-08-28 12:36:56,158] Trial 404 failed, because the objective function returned nan.\n",
      "[W 2020-08-28 12:36:56,234] Trial 405 failed, because the objective function returned nan.\n",
      "[W 2020-08-28 12:36:56,306] Trial 406 failed, because the objective function returned nan.\n",
      "[W 2020-08-28 12:36:56,384] Trial 407 failed, because the objective function returned nan.\n",
      "[W 2020-08-28 12:36:56,460] Trial 408 failed, because the objective function returned nan.\n",
      "[W 2020-08-28 12:36:56,535] Trial 409 failed, because the objective function returned nan.\n",
      "[W 2020-08-28 12:36:56,626] Trial 410 failed, because the objective function returned nan.\n",
      "[W 2020-08-28 12:36:56,710] Trial 411 failed, because the objective function returned nan.\n",
      "[W 2020-08-28 12:36:56,795] Trial 412 failed, because the objective function returned nan.\n",
      "[W 2020-08-28 12:36:56,879] Trial 413 failed, because the objective function returned nan.\n",
      "[W 2020-08-28 12:36:56,962] Trial 414 failed, because the objective function returned nan.\n",
      "[W 2020-08-28 12:36:57,042] Trial 415 failed, because the objective function returned nan.\n",
      "[W 2020-08-28 12:36:57,113] Trial 416 failed, because the objective function returned nan.\n",
      "[W 2020-08-28 12:36:57,191] Trial 417 failed, because the objective function returned nan.\n",
      "[W 2020-08-28 12:36:57,262] Trial 418 failed, because the objective function returned nan.\n",
      "[W 2020-08-28 12:36:57,342] Trial 419 failed, because the objective function returned nan.\n",
      "[W 2020-08-28 12:36:57,430] Trial 420 failed, because the objective function returned nan.\n",
      "[W 2020-08-28 12:36:57,506] Trial 421 failed, because the objective function returned nan.\n",
      "[W 2020-08-28 12:36:57,584] Trial 422 failed, because the objective function returned nan.\n",
      "[W 2020-08-28 12:36:57,684] Trial 423 failed, because the objective function returned nan.\n",
      "[W 2020-08-28 12:36:57,761] Trial 424 failed, because the objective function returned nan.\n",
      "[W 2020-08-28 12:36:57,841] Trial 425 failed, because the objective function returned nan.\n",
      "[W 2020-08-28 12:36:57,920] Trial 426 failed, because the objective function returned nan.\n",
      "[W 2020-08-28 12:36:57,998] Trial 427 failed, because the objective function returned nan.\n",
      "[W 2020-08-28 12:36:58,081] Trial 428 failed, because the objective function returned nan.\n",
      "[W 2020-08-28 12:36:58,162] Trial 429 failed, because the objective function returned nan.\n",
      "[W 2020-08-28 12:36:58,240] Trial 430 failed, because the objective function returned nan.\n",
      "[W 2020-08-28 12:36:58,324] Trial 431 failed, because the objective function returned nan.\n",
      "[W 2020-08-28 12:36:58,404] Trial 432 failed, because the objective function returned nan.\n",
      "[W 2020-08-28 12:36:58,480] Trial 433 failed, because the objective function returned nan.\n",
      "[W 2020-08-28 12:36:58,565] Trial 434 failed, because the objective function returned nan.\n",
      "[W 2020-08-28 12:36:58,647] Trial 435 failed, because the objective function returned nan.\n",
      "[W 2020-08-28 12:36:58,733] Trial 436 failed, because the objective function returned nan.\n",
      "[W 2020-08-28 12:36:58,811] Trial 437 failed, because the objective function returned nan.\n",
      "[W 2020-08-28 12:36:58,888] Trial 438 failed, because the objective function returned nan.\n",
      "[W 2020-08-28 12:36:58,972] Trial 439 failed, because the objective function returned nan.\n",
      "[W 2020-08-28 12:36:59,051] Trial 440 failed, because the objective function returned nan.\n",
      "[W 2020-08-28 12:36:59,129] Trial 441 failed, because the objective function returned nan.\n",
      "[W 2020-08-28 12:36:59,204] Trial 442 failed, because the objective function returned nan.\n",
      "[W 2020-08-28 12:36:59,282] Trial 443 failed, because the objective function returned nan.\n",
      "[W 2020-08-28 12:36:59,359] Trial 444 failed, because the objective function returned nan.\n",
      "[W 2020-08-28 12:36:59,441] Trial 445 failed, because the objective function returned nan.\n",
      "[W 2020-08-28 12:36:59,523] Trial 446 failed, because the objective function returned nan.\n",
      "[W 2020-08-28 12:36:59,603] Trial 447 failed, because the objective function returned nan.\n",
      "[W 2020-08-28 12:36:59,685] Trial 448 failed, because the objective function returned nan.\n",
      "[W 2020-08-28 12:36:59,763] Trial 449 failed, because the objective function returned nan.\n",
      "[W 2020-08-28 12:36:59,845] Trial 450 failed, because the objective function returned nan.\n",
      "[W 2020-08-28 12:36:59,925] Trial 451 failed, because the objective function returned nan.\n",
      "[W 2020-08-28 12:37:00,000] Trial 452 failed, because the objective function returned nan.\n",
      "[W 2020-08-28 12:37:00,078] Trial 453 failed, because the objective function returned nan.\n",
      "[W 2020-08-28 12:37:00,157] Trial 454 failed, because the objective function returned nan.\n",
      "[W 2020-08-28 12:37:00,233] Trial 455 failed, because the objective function returned nan.\n",
      "[W 2020-08-28 12:37:00,308] Trial 456 failed, because the objective function returned nan.\n",
      "[W 2020-08-28 12:37:00,382] Trial 457 failed, because the objective function returned nan.\n",
      "[W 2020-08-28 12:37:00,467] Trial 458 failed, because the objective function returned nan.\n",
      "[W 2020-08-28 12:37:00,553] Trial 459 failed, because the objective function returned nan.\n",
      "[W 2020-08-28 12:37:00,636] Trial 460 failed, because the objective function returned nan.\n",
      "[W 2020-08-28 12:37:00,729] Trial 461 failed, because the objective function returned nan.\n",
      "[W 2020-08-28 12:37:00,805] Trial 462 failed, because the objective function returned nan.\n",
      "[W 2020-08-28 12:37:00,888] Trial 463 failed, because the objective function returned nan.\n",
      "[W 2020-08-28 12:37:00,984] Trial 464 failed, because the objective function returned nan.\n",
      "[W 2020-08-28 12:37:01,077] Trial 465 failed, because the objective function returned nan.\n",
      "[W 2020-08-28 12:37:01,173] Trial 466 failed, because the objective function returned nan.\n",
      "[W 2020-08-28 12:37:01,259] Trial 467 failed, because the objective function returned nan.\n",
      "[W 2020-08-28 12:37:01,343] Trial 468 failed, because the objective function returned nan.\n",
      "[W 2020-08-28 12:37:01,447] Trial 469 failed, because the objective function returned nan.\n",
      "[W 2020-08-28 12:37:01,557] Trial 470 failed, because the objective function returned nan.\n",
      "[W 2020-08-28 12:37:01,683] Trial 471 failed, because the objective function returned nan.\n",
      "[W 2020-08-28 12:37:01,797] Trial 472 failed, because the objective function returned nan.\n",
      "[W 2020-08-28 12:37:01,904] Trial 473 failed, because the objective function returned nan.\n",
      "[W 2020-08-28 12:37:01,987] Trial 474 failed, because the objective function returned nan.\n",
      "[W 2020-08-28 12:37:02,065] Trial 475 failed, because the objective function returned nan.\n",
      "[W 2020-08-28 12:37:02,146] Trial 476 failed, because the objective function returned nan.\n",
      "[W 2020-08-28 12:37:02,240] Trial 477 failed, because the objective function returned nan.\n",
      "[W 2020-08-28 12:37:02,346] Trial 478 failed, because the objective function returned nan.\n",
      "[W 2020-08-28 12:37:02,452] Trial 479 failed, because the objective function returned nan.\n",
      "[W 2020-08-28 12:37:02,545] Trial 480 failed, because the objective function returned nan.\n",
      "[W 2020-08-28 12:37:02,654] Trial 481 failed, because the objective function returned nan.\n",
      "[W 2020-08-28 12:37:02,753] Trial 482 failed, because the objective function returned nan.\n",
      "[W 2020-08-28 12:37:02,839] Trial 483 failed, because the objective function returned nan.\n",
      "[W 2020-08-28 12:37:02,926] Trial 484 failed, because the objective function returned nan.\n",
      "[W 2020-08-28 12:37:03,024] Trial 485 failed, because the objective function returned nan.\n",
      "[W 2020-08-28 12:37:03,102] Trial 486 failed, because the objective function returned nan.\n",
      "[W 2020-08-28 12:37:03,184] Trial 487 failed, because the objective function returned nan.\n",
      "[W 2020-08-28 12:37:03,272] Trial 488 failed, because the objective function returned nan.\n",
      "[W 2020-08-28 12:37:03,347] Trial 489 failed, because the objective function returned nan.\n",
      "[W 2020-08-28 12:37:03,426] Trial 490 failed, because the objective function returned nan.\n",
      "[W 2020-08-28 12:37:03,509] Trial 491 failed, because the objective function returned nan.\n",
      "[W 2020-08-28 12:37:03,592] Trial 492 failed, because the objective function returned nan.\n",
      "[W 2020-08-28 12:37:03,684] Trial 493 failed, because the objective function returned nan.\n",
      "[W 2020-08-28 12:37:03,773] Trial 494 failed, because the objective function returned nan.\n",
      "[W 2020-08-28 12:37:03,854] Trial 495 failed, because the objective function returned nan.\n",
      "[W 2020-08-28 12:37:03,928] Trial 496 failed, because the objective function returned nan.\n",
      "[W 2020-08-28 12:37:04,003] Trial 497 failed, because the objective function returned nan.\n",
      "[W 2020-08-28 12:37:04,079] Trial 498 failed, because the objective function returned nan.\n",
      "[W 2020-08-28 12:37:04,161] Trial 499 failed, because the objective function returned nan.\n"
     ]
    },
    {
     "data": {
      "text/plain": [
       "-544.7573208808899"
      ]
     },
     "execution_count": 29,
     "metadata": {},
     "output_type": "execute_result"
    }
   ],
   "source": [
    "# create a study object and optimize the objective function\n",
    "start_time = time.time()\n",
    "with warnings.catch_warnings():\n",
    "    # suppress warnings for invalid parameter combinations\n",
    "    warnings.simplefilter(\"ignore\")\n",
    "    study01 = optuna.create_study(direction='maximize')\n",
    "    study01.optimize(objective, n_trials=500)\n",
    "end_time = time.time()\n",
    "run_time = start_time - end_time\n",
    "run_time"
   ]
  },
  {
   "cell_type": "markdown",
   "metadata": {},
   "source": [
    "#### Hyperparameter tuning results"
   ]
  },
  {
   "cell_type": "markdown",
   "metadata": {},
   "source": [
    "GridSearchCV"
   ]
  },
  {
   "cell_type": "code",
   "execution_count": 20,
   "metadata": {},
   "outputs": [
    {
     "name": "stdout",
     "output_type": "stream",
     "text": [
      "{'C': 545.5594781168514, 'class_weight': None, 'penalty': 'l2', 'solver': 'newton-cg'}\n",
      "0.9618931882220476\n"
     ]
    }
   ],
   "source": [
    "print(best_logreg.best_params_)\n",
    "print(best_logreg.best_score_)"
   ]
  },
  {
   "cell_type": "markdown",
   "metadata": {},
   "source": [
    "Bayseian "
   ]
  },
  {
   "cell_type": "code",
   "execution_count": 30,
   "metadata": {},
   "outputs": [
    {
     "name": "stdout",
     "output_type": "stream",
     "text": [
      "{'penalty': 'none', 'solver': 'newton-cg', 'C': 2.447208829423313, 'class_weight': None, 'max_iter': 935}\n",
      "0.9536496743567049\n"
     ]
    }
   ],
   "source": [
    "print(study01.best_params)\n",
    "print(study01.best_value)"
   ]
  },
  {
   "cell_type": "markdown",
   "metadata": {},
   "source": [
    "| Tuning Method | Number of Trials | Best F1 Score | Time (min) |\n",
    "| --- | --- | --- | --- |\n",
    "| GridSearchCV | 4,000 | 0.96189 | 86 |\n",
    "| Bayseian | 500 | 0.95365 | 9  |"
   ]
  },
  {
   "cell_type": "markdown",
   "metadata": {},
   "source": [
    "Gridsearch found a better model, but the Bayseian search was close with only a minimal run time. With more time I would expect Bayseain to match or even out perform gridsearch as its able to evaluate a larger parameter space."
   ]
  },
  {
   "cell_type": "code",
   "execution_count": 53,
   "metadata": {},
   "outputs": [],
   "source": [
    "# instatiating best model\n",
    "best_logreg = LogisticRegression(C = 545.5594781168514,\n",
    "                                 class_weight = None,\n",
    "                                 penalty = 'l2', \n",
    "                                 solver = 'newton-cg',\n",
    "                                random_state=23)\n",
    "\n",
    "best_logreg.fit(X_train, y_train)\n",
    "\n",
    "# metrics\n",
    "best_logreg_pred = best_logreg.predict(X_test)\n",
    "best_logreg_y_pred_prob = best_logreg.predict_proba(X_test)[:,1]\n",
    "best_logreg_fpr, best_logreg_tpr, best_logreg_roc_threshold = roc_curve(y_test, best_logreg_y_pred_prob)\n",
    "best_logreg_roc_auc = roc_auc_score(y_test, best_logreg_y_pred_prob)\n",
    "best_logreg_precision, best_logreg_recall, best_logreg_pr_threshold = precision_recall_curve(y_test, best_logreg_y_pred_prob)\n",
    "best_logreg_f1 = f1_score(y_test, best_logreg_pred)\n",
    "best_logreg_pr_auc = auc(best_logreg_recall, best_logreg_precision)\n",
    "best_logreg_accuracy = accuracy_score(y_test, best_logreg_pred)"
   ]
  },
  {
   "cell_type": "code",
   "execution_count": 50,
   "metadata": {},
   "outputs": [
    {
     "data": {
      "image/png": "[encoded data removed]",
      "text/plain": [
       "<Figure size 1080x504 with 2 Axes>"
      ]
     },
     "metadata": {
      "needs_background": "light"
     },
     "output_type": "display_data"
    }
   ],
   "source": [
    "_ = plt.subplots(figsize=(15,7))\n",
    "no_skill = len(y_test[y_test==1]) / len(y_test) # horizontal line in precision/recall curve\n",
    "\n",
    "# plot best ROC curve\n",
    "_ = plt.subplot(1,2,1)\n",
    "_ = plt.plot([0,1],[0,1], 'k--')\n",
    "_ = plt.plot(best_logreg_fpr, best_logreg_tpr)\n",
    "_ = plt.xlabel('False Positive Rate')\n",
    "_ = plt.ylabel('True Positive Rate')\n",
    "_ = plt.title('Best Logistic Regression ROC Curve')\n",
    "_ = plt.legend([f'roc auc score: {round(best_logreg_roc_auc,4)}'])\n",
    "    \n",
    "# plot best precision-recall curve\n",
    "_ = plt.subplot(1,2,2)\n",
    "_ = plt.plot([0, 1], [no_skill, no_skill], linestyle='--')\n",
    "_ = plt.plot(best_logreg_recall, best_logreg_precision)\n",
    "_ = plt.xlabel('Recall')\n",
    "_ = plt.ylabel('Precision')\n",
    "_ = plt.title('Best Logistic Regression Precision-Recall Curve')\n",
    "_ = plt.legend([f'precision/recall auc score: {round(best_logreg_pr_auc,4)}'])\n",
    "    \n",
    "plt.tight_layout()"
   ]
  },
  {
   "cell_type": "code",
   "execution_count": 54,
   "metadata": {},
   "outputs": [
    {
     "name": "stdout",
     "output_type": "stream",
     "text": [
      "              precision    recall  f1-score   support\n",
      "\n",
      "           0       1.00      1.00      1.00      3598\n",
      "           1       1.00      0.93      0.96       206\n",
      "\n",
      "    accuracy                           1.00      3804\n",
      "   macro avg       1.00      0.97      0.98      3804\n",
      "weighted avg       1.00      1.00      1.00      3804\n",
      "\n"
     ]
    }
   ],
   "source": [
    "print(classification_report(y_test, best_logreg_pred))"
   ]
  },
  {
   "cell_type": "code",
   "execution_count": 79,
   "metadata": {},
   "outputs": [
    {
     "data": {
      "image/png": "[encoded data removed]",
      "text/plain": [
       "<Figure size 720x720 with 2 Axes>"
      ]
     },
     "metadata": {
      "needs_background": "light"
     },
     "output_type": "display_data"
    }
   ],
   "source": [
    "_ = plt.subplots(figsize=(10,10))\n",
    "cmatrix = confusion_matrix(y_test, best_logreg_pred)\n",
    "heatmap = sns.heatmap(cmatrix, annot=True, cmap='Blues', fmt='d')"
   ]
  },
  {
   "cell_type": "markdown",
   "metadata": {},
   "source": [
    "# Conslusion\n",
    "\n",
    "Use ROC/AUC score because - threshold independent (default is 0.5)\n",
    "model outputs are a probaility so can adjust threshold to be more confident in positives\n",
    "\n",
    "ROC AUC for figuring out which model is best \n",
    "then use gridsearch to determine threshold \n",
    "\n",
    "use classification report\n",
    "\n",
    "Can we predict with labels only?\n",
    "\n"
   ]
  }
 ],
 "metadata": {
  "kernelspec": {
   "display_name": "Python 3",
   "language": "python",
   "name": "python3"
  },
  "language_info": {
   "codemirror_mode": {
    "name": "ipython",
    "version": 3
   },
   "file_extension": ".py",
   "mimetype": "text/x-python",
   "name": "python",
   "nbconvert_exporter": "python",
   "pygments_lexer": "ipython3",
   "version": "3.7.6"
  }
 },
 "nbformat": 4,
 "nbformat_minor": 4
}
