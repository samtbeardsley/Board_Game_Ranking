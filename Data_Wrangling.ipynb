{
 "cells": [
  {
   "cell_type": "code",
   "execution_count": 2,
   "metadata": {
    "scrolled": false
   },
   "outputs": [],
   "source": [
    "import os\n",
    "import requests\n",
    "import re\n",
    "import scrapy\n",
    "import pandas as pd"
   ]
  },
  {
   "cell_type": "code",
   "execution_count": null,
   "metadata": {
    "scrolled": false
   },
   "outputs": [],
   "source": [
    "#os.getcwd\n",
    "#os.chdir"
   ]
  },
  {
   "cell_type": "code",
   "execution_count": 91,
   "metadata": {
    "scrolled": false
   },
   "outputs": [
    {
     "data": {
      "text/plain": [
       "<200 https://boardgamegeek.com/browse/boardgame/page/1>"
      ]
     },
     "execution_count": 91,
     "metadata": {},
     "output_type": "execute_result"
    }
   ],
   "source": [
    "#Use this to test xpath/regex\n",
    "\n",
    "# Test URLs:\n",
    "url1 = https://boardgamegeek.com/browse/boardgame/page/1\n",
    "url2 = https://boardgamegeek.com/browse/boardgame/page/191\n",
    "url3 = https://boardgamegeek.com/boardgame/174430/gloomhaven/credits\n",
    "\n",
    "from scrapy.http import TextResponse\n",
    "\n",
    "r = requests.get('https://boardgamegeek.com/browse/boardgame/page/1')\n",
    "response = TextResponse(r.url, body=r.text, encoding='utf-8')\n",
    "response"
   ]
  },
  {
   "cell_type": "code",
   "execution_count": 97,
   "metadata": {
    "scrolled": false
   },
   "outputs": [],
   "source": [
    "# dont forget to close the request!\n",
    "r.close()"
   ]
  },
  {
   "cell_type": "code",
   "execution_count": null,
   "metadata": {
    "scrolled": false
   },
   "outputs": [],
   "source": [
    "import scrapy\n",
    "from Capstone.items import CreditItem\n",
    "import requests\n",
    "import re\n",
    "\n",
    "min_players_pattern = r'minplayers\":\"\\d*'\n",
    "max_players_pattern = r'maxplayers\":\"\\d*'\n",
    "min_play_time_pattern = r'minplaytime\":\"\\d*'\n",
    "max_play_time_pattern = r'maxplaytime\":\"\\d*'\n",
    "age_pattern = r'minage\":\"\\d*'\n",
    "mechanisms_pattern = r'\\\\/boardgamemechanic\\\\/([^\\\"]+)'\n",
    "category_pattern = r'\\\\/boardgamecategory\\\\/([^\\\"]+)'\n",
    "family_pattern = r'\\\\/boardgamefamily\\\\/([^\\\"]+)'\n",
    "weight_pattern = r'\"averageweight\":\\d\\.\\d*'\n",
    "\n",
    "class CreditSpider(scrapy.Spider):\n",
    "    name = \"credit\"\n",
    "\n",
    "    def start_requests(self):\n",
    "        urls = ['https://boardgamegeek.com/boardgame/174430/gloomhaven/credits',\n",
    "                'https://boardgamegeek.com/boardgame/174430/gloomhaven/credits',\n",
    "                'https://boardgamegeek.com/boardgame/161936/pandemic-legacy-season-1/credits',\n",
    "                'https://boardgamegeek.com/boardgame/38453/space-alert/credits',\n",
    "                'https://boardgamegeek.com/boardgame/95064/ascension-return-fallen/credits',\n",
    "                'https://boardgamegeek.com/boardgame/221965/fox-forest/credits'\n",
    "               ]\n",
    "        \n",
    "        for url in urls:\n",
    "            yield scrapy.Request(url=url, callback=self.parse)\n",
    "            \n",
    "    def parse(self, response):\n",
    "        item = CreditItem()\n",
    "        item['url'] = response.url\n",
    "        item['min_players'] = re.findall(min_players_pattern, response.text)\n",
    "        item['max_players'] = re.findall(max_players_pattern, response.text)\n",
    "        item['min_play_time'] = re.findall(min_play_time_pattern, response.text)\n",
    "        item['max_play_time'] = re.findall(max_play_time_pattern, response.text)\n",
    "        item['age'] = re.findall(age_pattern, response.text)\n",
    "        item['weight'] = re.findall(weight_pattern, response.text)\n",
    "        item['category'] = re.findall(category_pattern, response.text)\n",
    "        item['mechanisms'] = re.findall(mechanisms_pattern, response.text)\n",
    "        item['family'] = re.findall(family_pattern, response.text)\n",
    "        yield item"
   ]
  },
  {
   "cell_type": "code",
   "execution_count": 2,
   "metadata": {
    "scrolled": false
   },
   "outputs": [],
   "source": [
    "# create item used to structure data \n",
    "import scrapy\n",
    "\n",
    "class BrowseItem(scrapy.Item):\n",
    "    board_game_rank = scrapy.Field()\n",
    "    title = scrapy.Field()\n",
    "    game_sub_url = scrapy.Field()\n",
    "    geek_rating = scrapy.Field()\n",
    "    avg_rating = scrapy.Field()\n",
    "    num_voters = scrapy.Field()\n",
    "    pass\n",
    "\n",
    "class CreditItem(scrapy.Item):\n",
    "    url = scrapy.Field()\n",
    "    min_players = scrapy.Field()\n",
    "    max_players = scrapy.Field()\n",
    "    min_play_time = scrapy.Field()\n",
    "    max_play_time = scrapy.Field()\n",
    "    age = scrapy.Field()\n",
    "    weight = scrapy.Field()\n",
    "    category = scrapy.Field()\n",
    "    mechanisms = scrapy.Field()\n",
    "    family = scrapy.Field()\n",
    "    pass"
   ]
  },
  {
   "cell_type": "code",
   "execution_count": 8,
   "metadata": {
    "scrolled": false
   },
   "outputs": [],
   "source": [
    "import scrapy\n",
    "from Capstone.items import BrowseItem\n",
    "import requests\n",
    "\n",
    "class BrowseSpider(scrapy.Spider):\n",
    "    name = \"browse\"\n",
    "\n",
    "    def start_requests(self):\n",
    "        urls = ['https://boardgamegeek.com/browse/boardgame/page/1']\n",
    "        \n",
    "        # scrapes npages - will work up through page 191 until N/A values become present\n",
    "        npages = 1\n",
    "\n",
    "        for i in range(1, npages):\n",
    "            urls.append(\"https://boardgamegeek.com/browse/boardgame/page/\"+str(i+1)+\"\")\n",
    "\n",
    "        for url in urls:\n",
    "            yield scrapy.Request(url=url, callback=self.parse)\n",
    "\n",
    "    def parse(self, response):\n",
    "            n = 0\n",
    "            y = 0\n",
    "            while n < 100:\n",
    "                for sel in response.xpath('//table'):\n",
    "                    item = BrowseItem()\n",
    "                    item['board_game_rank'] = response.xpath('//tr/td/a[@name]')[n].extract()\n",
    "                    item['title'] = response.xpath('//tr/td/div/a[@href]/text()')[n].extract()\n",
    "                    item['game_sub_url'] = response.xpath('//tr/td/div/a/@href')[n].extract()\n",
    "                    item['geek_rating'] = response.xpath('//tr/td[contains(@class,\"collection_bggrating\")]/text()')[y].extract()\n",
    "                    item['avg_rating'] = response.xpath('//tr/td[contains(@class,\"collection_bggrating\")]/text()')[y+1].extract()\n",
    "                    item['num_voters'] = response.xpath('//tr/td[contains(@class,\"collection_bggrating\")]/text()')[y+2].extract()\n",
    "                    n += 1\n",
    "                    y += 3\n",
    "                    yield item\n",
    "           "
   ]
  },
  {
   "cell_type": "code",
   "execution_count": null,
   "metadata": {
    "scrolled": false
   },
   "outputs": [],
   "source": [
    "#os.getcwd()\n",
    "#os.chdir('..')\n",
    "#this will export in CLI\n",
    "#!scrapy crawl browse -o browse.csv\n",
    "#!scrapy crawl credit -o credit.csv"
   ]
  },
  {
   "cell_type": "code",
   "execution_count": 3,
   "metadata": {
    "scrolled": false
   },
   "outputs": [],
   "source": [
    "browse = pd.read_csv('browse.csv')"
   ]
  },
  {
   "cell_type": "code",
   "execution_count": 49,
   "metadata": {
    "scrolled": false
   },
   "outputs": [
    {
     "data": {
      "text/html": [
       "<div>\n",
       "<style scoped>\n",
       "    .dataframe tbody tr th:only-of-type {\n",
       "        vertical-align: middle;\n",
       "    }\n",
       "\n",
       "    .dataframe tbody tr th {\n",
       "        vertical-align: top;\n",
       "    }\n",
       "\n",
       "    .dataframe thead th {\n",
       "        text-align: right;\n",
       "    }\n",
       "</style>\n",
       "<table border=\"1\" class=\"dataframe\">\n",
       "  <thead>\n",
       "    <tr style=\"text-align: right;\">\n",
       "      <th></th>\n",
       "      <th>avg_rating</th>\n",
       "      <th>board_game_rank</th>\n",
       "      <th>game_sub_url</th>\n",
       "      <th>geek_rating</th>\n",
       "      <th>num_voters</th>\n",
       "      <th>title</th>\n",
       "    </tr>\n",
       "  </thead>\n",
       "  <tbody>\n",
       "    <tr>\n",
       "      <th>0</th>\n",
       "      <td>8.83</td>\n",
       "      <td>&lt;a name=\"1\"&gt;&lt;/a&gt;</td>\n",
       "      <td>/boardgame/174430/gloomhaven</td>\n",
       "      <td>8.573</td>\n",
       "      <td>35473</td>\n",
       "      <td>Gloomhaven</td>\n",
       "    </tr>\n",
       "    <tr>\n",
       "      <th>1</th>\n",
       "      <td>8.62</td>\n",
       "      <td>&lt;a name=\"2\"&gt;&lt;/a&gt;</td>\n",
       "      <td>/boardgame/161936/pandemic-legacy-season-1</td>\n",
       "      <td>8.472</td>\n",
       "      <td>37381</td>\n",
       "      <td>Pandemic Legacy: Season 1</td>\n",
       "    </tr>\n",
       "    <tr>\n",
       "      <th>2</th>\n",
       "      <td>7.45</td>\n",
       "      <td>&lt;a name=\"201\"&gt;&lt;/a&gt;</td>\n",
       "      <td>/boardgame/38453/space-alert</td>\n",
       "      <td>7.247</td>\n",
       "      <td>14338</td>\n",
       "      <td>Space Alert</td>\n",
       "    </tr>\n",
       "    <tr>\n",
       "      <th>3</th>\n",
       "      <td>7.30</td>\n",
       "      <td>&lt;a name=\"701\"&gt;&lt;/a&gt;</td>\n",
       "      <td>/boardgame/95064/ascension-return-fallen</td>\n",
       "      <td>6.695</td>\n",
       "      <td>3080</td>\n",
       "      <td>Ascension: Return of the Fallen</td>\n",
       "    </tr>\n",
       "    <tr>\n",
       "      <th>4</th>\n",
       "      <td>7.29</td>\n",
       "      <td>&lt;a name=\"401\"&gt;&lt;/a&gt;</td>\n",
       "      <td>/boardgame/221965/fox-forest</td>\n",
       "      <td>6.969</td>\n",
       "      <td>6974</td>\n",
       "      <td>The Fox in the Forest</td>\n",
       "    </tr>\n",
       "  </tbody>\n",
       "</table>\n",
       "</div>"
      ],
      "text/plain": [
       "   avg_rating     board_game_rank                                game_sub_url  \\\n",
       "0        8.83    <a name=\"1\"></a>                /boardgame/174430/gloomhaven   \n",
       "1        8.62    <a name=\"2\"></a>  /boardgame/161936/pandemic-legacy-season-1   \n",
       "2        7.45  <a name=\"201\"></a>                /boardgame/38453/space-alert   \n",
       "3        7.30  <a name=\"701\"></a>    /boardgame/95064/ascension-return-fallen   \n",
       "4        7.29  <a name=\"401\"></a>                /boardgame/221965/fox-forest   \n",
       "\n",
       "   geek_rating  num_voters                            title  \n",
       "0        8.573       35473                       Gloomhaven  \n",
       "1        8.472       37381        Pandemic Legacy: Season 1  \n",
       "2        7.247       14338                      Space Alert  \n",
       "3        6.695        3080  Ascension: Return of the Fallen  \n",
       "4        6.969        6974            The Fox in the Forest  "
      ]
     },
     "execution_count": 49,
     "metadata": {},
     "output_type": "execute_result"
    }
   ],
   "source": [
    "browse.head()"
   ]
  },
  {
   "cell_type": "code",
   "execution_count": 63,
   "metadata": {
    "scrolled": false
   },
   "outputs": [
    {
     "data": {
      "text/html": [
       "<div>\n",
       "<style scoped>\n",
       "    .dataframe tbody tr th:only-of-type {\n",
       "        vertical-align: middle;\n",
       "    }\n",
       "\n",
       "    .dataframe tbody tr th {\n",
       "        vertical-align: top;\n",
       "    }\n",
       "\n",
       "    .dataframe thead th {\n",
       "        text-align: right;\n",
       "    }\n",
       "</style>\n",
       "<table border=\"1\" class=\"dataframe\">\n",
       "  <thead>\n",
       "    <tr style=\"text-align: right;\">\n",
       "      <th></th>\n",
       "      <th>avg_rating</th>\n",
       "      <th>geek_rating</th>\n",
       "      <th>num_voters</th>\n",
       "    </tr>\n",
       "  </thead>\n",
       "  <tbody>\n",
       "    <tr>\n",
       "      <th>count</th>\n",
       "      <td>19021.000000</td>\n",
       "      <td>19021.000000</td>\n",
       "      <td>19021.000000</td>\n",
       "    </tr>\n",
       "    <tr>\n",
       "      <th>mean</th>\n",
       "      <td>6.386351</td>\n",
       "      <td>5.690198</td>\n",
       "      <td>813.579465</td>\n",
       "    </tr>\n",
       "    <tr>\n",
       "      <th>std</th>\n",
       "      <td>0.926287</td>\n",
       "      <td>0.370845</td>\n",
       "      <td>3331.389788</td>\n",
       "    </tr>\n",
       "    <tr>\n",
       "      <th>min</th>\n",
       "      <td>1.050000</td>\n",
       "      <td>3.537000</td>\n",
       "      <td>30.000000</td>\n",
       "    </tr>\n",
       "    <tr>\n",
       "      <th>25%</th>\n",
       "      <td>5.800000</td>\n",
       "      <td>5.511000</td>\n",
       "      <td>55.000000</td>\n",
       "    </tr>\n",
       "    <tr>\n",
       "      <th>50%</th>\n",
       "      <td>6.420000</td>\n",
       "      <td>5.551000</td>\n",
       "      <td>120.000000</td>\n",
       "    </tr>\n",
       "    <tr>\n",
       "      <th>75%</th>\n",
       "      <td>7.000000</td>\n",
       "      <td>5.689000</td>\n",
       "      <td>379.000000</td>\n",
       "    </tr>\n",
       "    <tr>\n",
       "      <th>max</th>\n",
       "      <td>9.690000</td>\n",
       "      <td>8.573000</td>\n",
       "      <td>94727.000000</td>\n",
       "    </tr>\n",
       "  </tbody>\n",
       "</table>\n",
       "</div>"
      ],
      "text/plain": [
       "         avg_rating   geek_rating    num_voters\n",
       "count  19021.000000  19021.000000  19021.000000\n",
       "mean       6.386351      5.690198    813.579465\n",
       "std        0.926287      0.370845   3331.389788\n",
       "min        1.050000      3.537000     30.000000\n",
       "25%        5.800000      5.511000     55.000000\n",
       "50%        6.420000      5.551000    120.000000\n",
       "75%        7.000000      5.689000    379.000000\n",
       "max        9.690000      8.573000  94727.000000"
      ]
     },
     "execution_count": 63,
     "metadata": {},
     "output_type": "execute_result"
    }
   ],
   "source": [
    "browse.describe()"
   ]
  },
  {
   "cell_type": "code",
   "execution_count": 4,
   "metadata": {
    "scrolled": false
   },
   "outputs": [],
   "source": [
    "# Creates a column 'full_game_url' to extract a list of urls to be used with the second spyder\n",
    "\n",
    "browse['full_game_url'] = 'https://boardgamegeek.com' + browse['game_sub_url'].astype(str) + \"/credits\""
   ]
  },
  {
   "cell_type": "code",
   "execution_count": 76,
   "metadata": {
    "scrolled": true
   },
   "outputs": [
    {
     "data": {
      "text/html": [
       "<div>\n",
       "<style scoped>\n",
       "    .dataframe tbody tr th:only-of-type {\n",
       "        vertical-align: middle;\n",
       "    }\n",
       "\n",
       "    .dataframe tbody tr th {\n",
       "        vertical-align: top;\n",
       "    }\n",
       "\n",
       "    .dataframe thead th {\n",
       "        text-align: right;\n",
       "    }\n",
       "</style>\n",
       "<table border=\"1\" class=\"dataframe\">\n",
       "  <thead>\n",
       "    <tr style=\"text-align: right;\">\n",
       "      <th></th>\n",
       "      <th>avg_rating</th>\n",
       "      <th>board_game_rank</th>\n",
       "      <th>game_sub_url</th>\n",
       "      <th>geek_rating</th>\n",
       "      <th>num_voters</th>\n",
       "      <th>title</th>\n",
       "      <th>full_game_url</th>\n",
       "    </tr>\n",
       "  </thead>\n",
       "  <tbody>\n",
       "    <tr>\n",
       "      <th>0</th>\n",
       "      <td>8.83</td>\n",
       "      <td>&lt;a name=\"1\"&gt;&lt;/a&gt;</td>\n",
       "      <td>/boardgame/174430/gloomhaven</td>\n",
       "      <td>8.573</td>\n",
       "      <td>35473</td>\n",
       "      <td>Gloomhaven</td>\n",
       "      <td>https://boardgamegeek.com/boardgame/174430/glo...</td>\n",
       "    </tr>\n",
       "    <tr>\n",
       "      <th>1</th>\n",
       "      <td>8.62</td>\n",
       "      <td>&lt;a name=\"2\"&gt;&lt;/a&gt;</td>\n",
       "      <td>/boardgame/161936/pandemic-legacy-season-1</td>\n",
       "      <td>8.472</td>\n",
       "      <td>37381</td>\n",
       "      <td>Pandemic Legacy: Season 1</td>\n",
       "      <td>https://boardgamegeek.com/boardgame/161936/pan...</td>\n",
       "    </tr>\n",
       "    <tr>\n",
       "      <th>2</th>\n",
       "      <td>7.45</td>\n",
       "      <td>&lt;a name=\"201\"&gt;&lt;/a&gt;</td>\n",
       "      <td>/boardgame/38453/space-alert</td>\n",
       "      <td>7.247</td>\n",
       "      <td>14338</td>\n",
       "      <td>Space Alert</td>\n",
       "      <td>https://boardgamegeek.com/boardgame/38453/spac...</td>\n",
       "    </tr>\n",
       "    <tr>\n",
       "      <th>3</th>\n",
       "      <td>7.30</td>\n",
       "      <td>&lt;a name=\"701\"&gt;&lt;/a&gt;</td>\n",
       "      <td>/boardgame/95064/ascension-return-fallen</td>\n",
       "      <td>6.695</td>\n",
       "      <td>3080</td>\n",
       "      <td>Ascension: Return of the Fallen</td>\n",
       "      <td>https://boardgamegeek.com/boardgame/95064/asce...</td>\n",
       "    </tr>\n",
       "    <tr>\n",
       "      <th>4</th>\n",
       "      <td>7.29</td>\n",
       "      <td>&lt;a name=\"401\"&gt;&lt;/a&gt;</td>\n",
       "      <td>/boardgame/221965/fox-forest</td>\n",
       "      <td>6.969</td>\n",
       "      <td>6974</td>\n",
       "      <td>The Fox in the Forest</td>\n",
       "      <td>https://boardgamegeek.com/boardgame/221965/fox...</td>\n",
       "    </tr>\n",
       "  </tbody>\n",
       "</table>\n",
       "</div>"
      ],
      "text/plain": [
       "   avg_rating     board_game_rank                                game_sub_url  \\\n",
       "0        8.83    <a name=\"1\"></a>                /boardgame/174430/gloomhaven   \n",
       "1        8.62    <a name=\"2\"></a>  /boardgame/161936/pandemic-legacy-season-1   \n",
       "2        7.45  <a name=\"201\"></a>                /boardgame/38453/space-alert   \n",
       "3        7.30  <a name=\"701\"></a>    /boardgame/95064/ascension-return-fallen   \n",
       "4        7.29  <a name=\"401\"></a>                /boardgame/221965/fox-forest   \n",
       "\n",
       "   geek_rating  num_voters                            title  \\\n",
       "0        8.573       35473                       Gloomhaven   \n",
       "1        8.472       37381        Pandemic Legacy: Season 1   \n",
       "2        7.247       14338                      Space Alert   \n",
       "3        6.695        3080  Ascension: Return of the Fallen   \n",
       "4        6.969        6974            The Fox in the Forest   \n",
       "\n",
       "                                       full_game_url  \n",
       "0  https://boardgamegeek.com/boardgame/174430/glo...  \n",
       "1  https://boardgamegeek.com/boardgame/161936/pan...  \n",
       "2  https://boardgamegeek.com/boardgame/38453/spac...  \n",
       "3  https://boardgamegeek.com/boardgame/95064/asce...  \n",
       "4  https://boardgamegeek.com/boardgame/221965/fox...  "
      ]
     },
     "execution_count": 76,
     "metadata": {},
     "output_type": "execute_result"
    }
   ],
   "source": [
    "browse.head()"
   ]
  },
  {
   "cell_type": "code",
   "execution_count": 15,
   "metadata": {
    "scrolled": true
   },
   "outputs": [
    {
     "data": {
      "text/plain": [
       "['https://boardgamegeek.com/boardgame/174430/gloomhaven/credits',\n",
       " 'https://boardgamegeek.com/boardgame/161936/pandemic-legacy-season-1/credits',\n",
       " 'https://boardgamegeek.com/boardgame/38453/space-alert/credits',\n",
       " 'https://boardgamegeek.com/boardgame/95064/ascension-return-fallen/credits',\n",
       " 'https://boardgamegeek.com/boardgame/221965/fox-forest/credits']"
      ]
     },
     "execution_count": 15,
     "metadata": {},
     "output_type": "execute_result"
    }
   ],
   "source": [
    "full_game_url_list = list(browse['full_game_url'])\n",
    "full_game_url_list[0:5]"
   ]
  }
 ],
 "metadata": {
  "kernelspec": {
   "display_name": "Python 3",
   "language": "python",
   "name": "python3"
  },
  "language_info": {
   "codemirror_mode": {
    "name": "ipython",
    "version": 3
   },
   "file_extension": ".py",
   "mimetype": "text/x-python",
   "name": "python",
   "nbconvert_exporter": "python",
   "pygments_lexer": "ipython3",
   "version": "3.7.6"
  }
 },
 "nbformat": 4,
 "nbformat_minor": 4
}
